{
 "cells": [
  {
   "cell_type": "code",
   "execution_count": 1,
   "metadata": {
    "collapsed": true
   },
   "outputs": [],
   "source": [
    "import numpy as np\n",
    "import pandas as pd\n",
    "import math\n",
    "from statsmodels.graphics.dotplots import dot_plot\n",
    "from collections import OrderedDict, Counter\n",
    "import matplotlib.pyplot as plt\n",
    "plt.style.use('ggplot')\n",
    "%matplotlib inline"
   ]
  },
  {
   "cell_type": "markdown",
   "metadata": {},
   "source": [
    "# Lecture 2\n",
    "\n",
    "## Describing Data\n",
    "\n",
    "There are several ways to summarize and describe data; we will examine five general methods:\n",
    "\n",
    "1. Using __graphs__ to describe data\n",
    "2. Examining where the __middle__ of a data set is located\n",
    "3. Examining how a data set is __spread__ out\n",
    "4. Using information about the __spread__ of the data, in conjunction with the __middle__ of the data, to make other __summary statements__ about data\n",
    "5. Describing how specific data values __differ in relation to__ the rest of the data collected\n",
    "\n",
    "### Graphs\n",
    "\n",
    "A graph of a data set usually provides the simplest and most efficient method of understanding how the data are behaving. \n",
    "\n",
    "How a data set behaves will dictate how we analyze the data in the future.  We will look at several __graphical displays__ to examine the behavior of data sets, e.g., bar charts, dot plots, histograms, and stem + leaf display.\n",
    "\n",
    "#### Bar Charts\n",
    "\n",
    "A way of summarizing a set of __qualitative__ data.  They are often used to summarize data and to show the major features of the distribution of the data in a convenient form.  In a bar chart each category is assigned a bar of similar width in the graph.  The height of each bar represents the number of data points in the category it represents.  Bar charts can be displayed hrizontally or vertically and are usually drawn with  spacing between the bars.\n",
    "\n",
    "__Example__: A survey of 1000 Bay Area internet users was taken and each person's top internet related complain was recorded.  The results of the survey are summarized in the following __bar chart__."
   ]
  },
  {
   "cell_type": "code",
   "execution_count": 2,
   "metadata": {
    "collapsed": false
   },
   "outputs": [
    {
     "data": {
      "image/png": "[encoded data removed]",
      "text/plain": [
       "<matplotlib.figure.Figure at 0x7f619dfb2550>"
      ]
     },
     "metadata": {},
     "output_type": "display_data"
    }
   ],
   "source": [
    "data = []\n",
    "\n",
    "for i in range(221):\n",
    "    data.append(\"Slow Connection Speed\")\n",
    "\n",
    "for i in range(191):\n",
    "    data.append(\"Pop-Up Window\")\n",
    "    \n",
    "for i in range(241):\n",
    "    data.append(\"Spam Emails\")\n",
    "    \n",
    "for i in range(161):\n",
    "    data.append(\"Viruses\")\n",
    "\n",
    "for i in range(111):\n",
    "    data.append(\"Too Expensive\")\n",
    "    \n",
    "for i in range(81):\n",
    "    data.append(\"Other\")\n",
    "    \n",
    "df = pd.Series(data).value_counts()\n",
    "ax = df.plot(kind='bar', figsize=(5, 5), title=\"Internet Complaint\", fontsize=14, alpha=0.8);\n",
    "ax.set_ylabel('Number of Complaints');"
   ]
  },
  {
   "cell_type": "markdown",
   "metadata": {},
   "source": [
    "__Questions__:\n",
    "+ What was the biggest complaint?\n",
    "    The category containing the most data has the tallest bar, so we know that 'Spam Emails' is the biggest complaint.\n",
    "+ How many survey respondents said that the pop-up windows were a problem?\n",
    "    Since 19% of the respondents said pop-up windows were a problem, we only need to multiply the sample size by 0.19 to get the answer.  See the 'sample' function below.\n",
    "+ What proportion of survey respondents said that viruses or a slow connection speed was a problem? (a __proportion__ is a percent in decimal form).\n",
    "    The proportion of survey respondents that said viruses or a slow connection speed was 0.38, because .22 reported a slow connection and .16 said viruses; .22 + .16 = .38 "
   ]
  },
  {
   "cell_type": "code",
   "execution_count": 3,
   "metadata": {
    "collapsed": true
   },
   "outputs": [],
   "source": [
    "def sample(percent, total):\n",
    "    sum = total * percent\n",
    "    return sum"
   ]
  },
  {
   "cell_type": "code",
   "execution_count": 4,
   "metadata": {
    "collapsed": false
   },
   "outputs": [
    {
     "data": {
      "text/plain": [
       "190.0"
      ]
     },
     "execution_count": 4,
     "metadata": {},
     "output_type": "execute_result"
    }
   ],
   "source": [
    "sample(0.19, 1000)"
   ]
  },
  {
   "cell_type": "markdown",
   "metadata": {},
   "source": [
    "#### Dot Plot Graph\n",
    "\n",
    "A nationwide corporation that hires hundres of college graduates each year is trying to obtain information about starting alaries for new grads.  The corporation has collected data, measure in thousands of dollars, for twenty recent hires.  The starting salaries, rounded to the nearest thousand, are:"
   ]
  },
  {
   "cell_type": "code",
   "execution_count": 5,
   "metadata": {
    "collapsed": false
   },
   "outputs": [
    {
     "data": {
      "image/png": "[encoded data removed]",
      "text/plain": [
       "<matplotlib.figure.Figure at 0x7f619ded0940>"
      ]
     },
     "metadata": {},
     "output_type": "display_data"
    }
   ],
   "source": [
    "# create a list of values\n",
    "salaries = [43, 48, 37, 52, 45, 43, 32, 28, 68, 56, 52, 32, 61, 48, 43, 48, 48, 41, 58, 41]\n",
    "\n",
    "# create a DataFrame and name the first column 'salaries'\n",
    "df = pd.DataFrame(salaries, columns=['salaries'])\n",
    "\n",
    "# create a column called 'freq' to represent the count of each value in column 'salaries'\n",
    "df['freq'] = df.groupby('salaries')['salaries'].transform('count')\n",
    "\n",
    "# plot with statsmodels dot_plot\n",
    "fig = dot_plot(points=df['salaries'], lines=df['freq'], line_order=[4, 3, 2, 1])\n",
    "plt.ylabel(\"Frequency\", size=16);\n",
    "plt.xlabel(\"Salaries (in thousands)\");"
   ]
  },
  {
   "cell_type": "markdown",
   "metadata": {},
   "source": [
    "#### Histogram\n",
    "\n",
    "In order to create a __histogram__, you must first break up the horizontal axis into intervals of equal length (called __classes__) such that each observation falls into one, and only one, class.\n",
    "\n",
    "Lets look at our salaries:"
   ]
  },
  {
   "cell_type": "code",
   "execution_count": 6,
   "metadata": {
    "collapsed": false
   },
   "outputs": [
    {
     "data": {
      "text/plain": [
       "count    20.00000\n",
       "mean     46.20000\n",
       "std      10.03992\n",
       "min      28.00000\n",
       "25%      41.00000\n",
       "50%      46.50000\n",
       "75%      52.00000\n",
       "max      68.00000\n",
       "Name: salaries, dtype: float64"
      ]
     },
     "execution_count": 6,
     "metadata": {},
     "output_type": "execute_result"
    }
   ],
   "source": [
    "df.salaries.describe()"
   ]
  },
  {
   "cell_type": "markdown",
   "metadata": {},
   "source": [
    "Notice the smallest obersvation is 28 and our largest is 68.  So, if we start our first class at 20 and end the last class at 70, we are insured of including all data points.  We can then determine each class by starting at 20 and letting the width of each class be 10.\n",
    "\n",
    "In order to construct the histogram, the idea is to draw bars above each class where the heights of the bars represent the number of data points that fall in each class."
   ]
  },
  {
   "cell_type": "code",
   "execution_count": 7,
   "metadata": {
    "collapsed": false
   },
   "outputs": [
    {
     "data": {
      "image/png": "[encoded data removed]",
      "text/plain": [
       "<matplotlib.figure.Figure at 0x7f619df8bb38>"
      ]
     },
     "metadata": {},
     "output_type": "display_data"
    }
   ],
   "source": [
    "ax = df['salaries'].plot(kind='hist', figsize=(5, 5), bins=[20, 30, 40, 50, 60, 70], alpha=0.8);\n",
    "ax.set_ylabel('Frequency');\n",
    "ax.set_xlabel('Salaries (in thousands)');"
   ]
  },
  {
   "cell_type": "markdown",
   "metadata": {},
   "source": [
    "#### Stem and Leaf Graph\n",
    "\n",
    "In order to create a __Stem and Leaf Graph__, you must first break up the data into stems and eaves.  In the salaries data set, the ten's digits become the stems and the unit's digits become the leaves, e.g., if you have 22, 25, 28, you will separate them like, '2 | 2 5 8', where the stem goes on the left of the vertical line, and the leaves go on the right of the vertical line.  Let's use our salaries data to create a graph:"
   ]
  },
  {
   "cell_type": "code",
   "execution_count": 8,
   "metadata": {
    "collapsed": true
   },
   "outputs": [],
   "source": [
    "def stemleaf(list):\n",
    "    d = OrderedDict((((str(v)[:-1],' ')[v<10], Counter()) for v in sorted(list)))\n",
    "    for s in ((str(v),' '+str(v))[v<10] for v in list) : d[s[:-1]][s[-1]]+=1\n",
    "    m=max(len(s) for s in d)\n",
    "    for k in d:\n",
    "        print('%s%s | %s'%(' '*(m-len(k)),k,' '.join(sorted(d[k].elements()))))"
   ]
  },
  {
   "cell_type": "code",
   "execution_count": 9,
   "metadata": {
    "collapsed": false
   },
   "outputs": [
    {
     "name": "stdout",
     "output_type": "stream",
     "text": [
      "2 | 8\n",
      "3 | 2 2 7\n",
      "4 | 1 1 3 3 3 5 8 8 8 8\n",
      "5 | 2 2 6 8\n",
      "6 | 1 8\n"
     ]
    }
   ],
   "source": [
    "stemleaf(salaries)"
   ]
  },
  {
   "cell_type": "markdown",
   "metadata": {},
   "source": [
    "The above is a completed __Stem and Leaf__ graph.  The stems go on the left of the vertical line, and the leaves go on the right of the vertical line.  This graph shows how the data is distrubuted from the 20's to the 60's.\n",
    "\n",
    "It is most important that you can look at a Stem and Leaf graph and see the original data values.\n",
    "\n",
    "To obtain a __cumulative count__ determine the number of data values in each row and add them up as you increase from low to high values in the graph.  The above graph has 20 data values.\n",
    "\n",
    "### How to describe the behavior of data\n",
    "\n",
    "There are certain behaviors of data that are so common in every day life, that such behaviors are given special descriptions.  It is important to be familiar with these descriptive phrases so that we have a common way to describe these behaviors.\n",
    "\n",
    "__Distribution__: When we refer to a __distribution__ of a population we are referring to the _behavior_ of the _entire population_.\n",
    "\n",
    "Distributions can be __symetrical__, __bimodal__, __skewed to the right__, or __skewed to the left__.  Each of these distributions tell us something about the data's behavior.  _Note that we whe say 'skewed' we are not talking about the area of the distribution with the most data values, but the area with the least data values."
   ]
  },
  {
   "cell_type": "markdown",
   "metadata": {},
   "source": [
    "### Measures of Central Tendency\n",
    "\n",
    "Beyond summarizing data graphically, we can compute __descriptive measures__ which are numbers that 'describe' a set of quantitative data.  We will focus on two types of numbers that will help us to construct a mental image of the distribution of a collection of data:\n",
    "\n",
    "1. __Measures of Cental Tendency__\n",
    "2. __Measures of Dispersion__(Spread of the data)\n",
    "\n",
    "__Measures of central tendency are numbers that tell us where the \"center\" of a distribution of data is located.  The following table is a summary of the three measures of central tendency that we will be studying in this section.\n",
    "\n",
    "#### Mean\n",
    "$$\n",
    "\\overline{x} = \\frac{\\sum x}{n}\n",
    "$$\n",
    "\n",
    "The __mean__ is the sum of the data measurments divided by the number of measurements contained in the data set.  (_average_ may be a more familiar term, but it means the same thing).  It is important to note that the mean is sensitive to the max and min of a data set, so, it is not always the a good measure for the center of a data set.\n",
    "\n",
    "#### Median\n",
    "$$\n",
    "\\overrightarrow{15}, \\overrightarrow{24}, \\underline{37}, \\overleftarrow{56}, \\overleftarrow{65}\n",
    "$$\n",
    "\n",
    "The __median__ is the number that divides the data set into two equal sized groups: those greater than the median and those les than the median.\n",
    "\n",
    "__WARNING__: The data set must be in sequential order before you calculate the median!\n",
    "\n",
    "For a data set with _n_ obserbations:\n",
    "* if _n_ is an odd number: __median__ = the middle obervation\n",
    "* if _n_ is an even number: __median__ = mean of the middle two observations\n",
    "    \n",
    "#### Mode\n",
    "\n",
    "The numerical value in a data set that occurs most frequently\n",
    "\n",
    "Let's use an example of infant mortality data"
   ]
  },
  {
   "cell_type": "code",
   "execution_count": 10,
   "metadata": {
    "collapsed": false
   },
   "outputs": [
    {
     "data": {
      "text/html": [
       "<div style=\"max-height:1000px;max-width:1500px;overflow:auto;\">\n",
       "<table border=\"1\" class=\"dataframe\">\n",
       "  <thead>\n",
       "    <tr style=\"text-align: right;\">\n",
       "      <th></th>\n",
       "      <th>Infant Mortality Rate</th>\n",
       "    </tr>\n",
       "  </thead>\n",
       "  <tbody>\n",
       "    <tr>\n",
       "      <th>China</th>\n",
       "      <td>34</td>\n",
       "    </tr>\n",
       "    <tr>\n",
       "      <th>Somolia</th>\n",
       "      <td>80</td>\n",
       "    </tr>\n",
       "    <tr>\n",
       "      <th>Mexico</th>\n",
       "      <td>33</td>\n",
       "    </tr>\n",
       "    <tr>\n",
       "      <th>Sweden</th>\n",
       "      <td>5</td>\n",
       "    </tr>\n",
       "    <tr>\n",
       "      <th>US</th>\n",
       "      <td>10</td>\n",
       "    </tr>\n",
       "    <tr>\n",
       "      <th>France</th>\n",
       "      <td>6</td>\n",
       "    </tr>\n",
       "    <tr>\n",
       "      <th>North Korea</th>\n",
       "      <td>20</td>\n",
       "    </tr>\n",
       "  </tbody>\n",
       "</table>\n",
       "</div>"
      ],
      "text/plain": [
       "             Infant Mortality Rate\n",
       "China                           34\n",
       "Somolia                         80\n",
       "Mexico                          33\n",
       "Sweden                           5\n",
       "US                              10\n",
       "France                           6\n",
       "North Korea                     20"
      ]
     },
     "execution_count": 10,
     "metadata": {},
     "output_type": "execute_result"
    }
   ],
   "source": [
    "infantMortality = {'Somolia': 80, 'North Korea': 20, 'Sweden': 5, 'US': 10, 'China': 34, 'Mexico': 33, 'France': 6}\n",
    "df = pd.DataFrame.from_dict(infantMortality, orient='index')\n",
    "df.columns = ['Infant Mortality Rate']\n",
    "df"
   ]
  },
  {
   "cell_type": "code",
   "execution_count": 11,
   "metadata": {
    "collapsed": false
   },
   "outputs": [
    {
     "data": {
      "text/html": [
       "<div style=\"max-height:1000px;max-width:1500px;overflow:auto;\">\n",
       "<table border=\"1\" class=\"dataframe\">\n",
       "  <thead>\n",
       "    <tr style=\"text-align: right;\">\n",
       "      <th></th>\n",
       "      <th>Infant Mortality Rate</th>\n",
       "    </tr>\n",
       "  </thead>\n",
       "  <tbody>\n",
       "    <tr>\n",
       "      <th>count</th>\n",
       "      <td>7.000000</td>\n",
       "    </tr>\n",
       "    <tr>\n",
       "      <th>mean</th>\n",
       "      <td>26.857143</td>\n",
       "    </tr>\n",
       "    <tr>\n",
       "      <th>std</th>\n",
       "      <td>26.321275</td>\n",
       "    </tr>\n",
       "    <tr>\n",
       "      <th>min</th>\n",
       "      <td>5.000000</td>\n",
       "    </tr>\n",
       "    <tr>\n",
       "      <th>25%</th>\n",
       "      <td>8.000000</td>\n",
       "    </tr>\n",
       "    <tr>\n",
       "      <th>50%</th>\n",
       "      <td>20.000000</td>\n",
       "    </tr>\n",
       "    <tr>\n",
       "      <th>75%</th>\n",
       "      <td>33.500000</td>\n",
       "    </tr>\n",
       "    <tr>\n",
       "      <th>max</th>\n",
       "      <td>80.000000</td>\n",
       "    </tr>\n",
       "  </tbody>\n",
       "</table>\n",
       "</div>"
      ],
      "text/plain": [
       "       Infant Mortality Rate\n",
       "count               7.000000\n",
       "mean               26.857143\n",
       "std                26.321275\n",
       "min                 5.000000\n",
       "25%                 8.000000\n",
       "50%                20.000000\n",
       "75%                33.500000\n",
       "max                80.000000"
      ]
     },
     "execution_count": 11,
     "metadata": {},
     "output_type": "execute_result"
    }
   ],
   "source": [
    "df.describe()"
   ]
  },
  {
   "cell_type": "code",
   "execution_count": 12,
   "metadata": {
    "collapsed": false
   },
   "outputs": [
    {
     "data": {
      "image/png": "[encoded data removed]",
      "text/plain": [
       "<matplotlib.figure.Figure at 0x7f619ddba748>"
      ]
     },
     "metadata": {},
     "output_type": "display_data"
    }
   ],
   "source": [
    "ax = df['Infant Mortality Rate'].plot(kind='bar', figsize=(5, 5), alpha=0.8);\n",
    "ax.set_ylabel('Inant Mortality Rate');"
   ]
  },
  {
   "cell_type": "markdown",
   "metadata": {},
   "source": [
    "$$\n",
    "\\overline{x} = sample\\;mean\\\\\n",
    "\\mu = population\\;mean\n",
    "$$\n",
    "\n",
    "An __outlier__ is a number in a data set that is very large or very small in relation to the rest of the numbers in the collection of data.  A data set can have more than one outlier, or no outliers.\n",
    "\n",
    "__outliers__ affect sample mean, because outliers tend to pull the mean away from the center of a data set."
   ]
  },
  {
   "cell_type": "code",
   "execution_count": 13,
   "metadata": {
    "collapsed": false
   },
   "outputs": [
    {
     "data": {
      "text/plain": [
       "8.25"
      ]
     },
     "execution_count": 13,
     "metadata": {},
     "output_type": "execute_result"
    }
   ],
   "source": [
    "sellingPrice = [9.3, 11.0, 28.7, 7.6, 6.5, 8.7, 7.4, 7.8, 6.7, 9.5]\n",
    "df = pd.Series(sellingPrice)\n",
    "df.median()"
   ]
  },
  {
   "cell_type": "code",
   "execution_count": 14,
   "metadata": {
    "collapsed": false
   },
   "outputs": [
    {
     "data": {
      "text/plain": [
       "10.32"
      ]
     },
     "execution_count": 14,
     "metadata": {},
     "output_type": "execute_result"
    }
   ],
   "source": [
    "df.mean()"
   ]
  },
  {
   "cell_type": "code",
   "execution_count": 15,
   "metadata": {
    "collapsed": false
   },
   "outputs": [
    {
     "data": {
      "text/plain": [
       "Series([], dtype: float64)"
      ]
     },
     "execution_count": 15,
     "metadata": {},
     "output_type": "execute_result"
    }
   ],
   "source": [
    "df.mode()"
   ]
  },
  {
   "cell_type": "markdown",
   "metadata": {},
   "source": [
    "### Measure of Data Variability\n",
    "\n",
    "#### Why do we need to measure the spread of data?\n",
    "\n",
    "We have already studied some measures of central tendency (mean, median, and mode); however, measures of central tendency are not enough by themselves to adequately describe the behavior of a data set.  Measures of central tendency give no information about the amount of variation or spread of a data set.  Note: the words __dispersion__, __spread__, and __variation__ have the same meaning for us.\n",
    "\n",
    "_Example_: Suppose that we have three different sets of sample data, where each sample consists of 6 ages in years or faculty members.  Let us examine the behavior of three data sets."
   ]
  },
  {
   "cell_type": "code",
   "execution_count": 16,
   "metadata": {
    "collapsed": false
   },
   "outputs": [
    {
     "data": {
      "text/plain": [
       "45.0"
      ]
     },
     "execution_count": 16,
     "metadata": {},
     "output_type": "execute_result"
    }
   ],
   "source": [
    "a = [40, 30, 70, 20, 50, 60]\n",
    "b= [40, 42, 70 ,20, 50, 48]\n",
    "c = [40, 48, 44, 42, 50, 46]\n",
    "\n",
    "A = pd.Series(a)\n",
    "B = pd.Series(b)\n",
    "C = pd.Series(c)\n",
    "\n",
    "A.median()"
   ]
  },
  {
   "cell_type": "code",
   "execution_count": 17,
   "metadata": {
    "collapsed": false
   },
   "outputs": [
    {
     "data": {
      "text/plain": [
       "45.0"
      ]
     },
     "execution_count": 17,
     "metadata": {},
     "output_type": "execute_result"
    }
   ],
   "source": [
    "B.median()"
   ]
  },
  {
   "cell_type": "code",
   "execution_count": 18,
   "metadata": {
    "collapsed": false
   },
   "outputs": [
    {
     "data": {
      "text/plain": [
       "45.0"
      ]
     },
     "execution_count": 18,
     "metadata": {},
     "output_type": "execute_result"
    }
   ],
   "source": [
    "C.median()"
   ]
  },
  {
   "cell_type": "markdown",
   "metadata": {},
   "source": [
    "As we can see, each of these three data sets has the same median; however, they do not behave in exactely the same way.\n",
    "\n",
    "The __range__ is the simplest measure of spread to calculate--it is simply the difference between teh largest and the smallest values in a data set.\n",
    "\n",
    "$$\n",
    "Range = (largest\\;value) - (smallest\\;vaue)\n",
    "$$"
   ]
  },
  {
   "cell_type": "code",
   "execution_count": 19,
   "metadata": {
    "collapsed": false
   },
   "outputs": [],
   "source": [
    "def range(data):\n",
    "    range = data.max() - data.min()\n",
    "    return range"
   ]
  },
  {
   "cell_type": "code",
   "execution_count": 20,
   "metadata": {
    "collapsed": false
   },
   "outputs": [
    {
     "data": {
      "text/plain": [
       "50"
      ]
     },
     "execution_count": 20,
     "metadata": {},
     "output_type": "execute_result"
    }
   ],
   "source": [
    "range(A)"
   ]
  },
  {
   "cell_type": "code",
   "execution_count": 21,
   "metadata": {
    "collapsed": false
   },
   "outputs": [
    {
     "data": {
      "text/plain": [
       "50"
      ]
     },
     "execution_count": 21,
     "metadata": {},
     "output_type": "execute_result"
    }
   ],
   "source": [
    "range(B)"
   ]
  },
  {
   "cell_type": "code",
   "execution_count": 22,
   "metadata": {
    "collapsed": false
   },
   "outputs": [
    {
     "data": {
      "text/plain": [
       "10"
      ]
     },
     "execution_count": 22,
     "metadata": {},
     "output_type": "execute_result"
    }
   ],
   "source": [
    "range(C)"
   ]
  },
  {
   "cell_type": "markdown",
   "metadata": {},
   "source": [
    "Data set C has the smallest range because the data values are closest together.  Strangely, data sets A and B have the same range even though they are spread out differently!  Data set A is much more spread out than data set B, but that information is lost when using the range as a measure of spread.  The range only takes into account the first and last data values.  The information in all other values is ignored.\n",
    "\n",
    "Enter __Standard deviation__.\n",
    "\n",
    "The __sample standard deviation__ takes all data values into account when meassuring spread.\n",
    "\n",
    "$$\n",
    "s = sample\\;standard\\;deviation\n",
    "$$\n",
    "\n",
    "In general, the smaller value of the standard deviation for a data set indicates that the values of that data set are spreak over a relatively smaller region around the mean.\n",
    "\n",
    "In contrast, a larger value of the standard deviation for a data set indicates that the values of that data set are spread out over a relatively larger region around the mean."
   ]
  },
  {
   "cell_type": "code",
   "execution_count": 23,
   "metadata": {
    "collapsed": false
   },
   "outputs": [
    {
     "data": {
      "text/plain": [
       "18.708286933869708"
      ]
     },
     "execution_count": 23,
     "metadata": {},
     "output_type": "execute_result"
    }
   ],
   "source": [
    "A.std()"
   ]
  },
  {
   "cell_type": "code",
   "execution_count": 24,
   "metadata": {
    "collapsed": false
   },
   "outputs": [
    {
     "data": {
      "text/plain": [
       "16.235762994081924"
      ]
     },
     "execution_count": 24,
     "metadata": {},
     "output_type": "execute_result"
    }
   ],
   "source": [
    "B.std()"
   ]
  },
  {
   "cell_type": "code",
   "execution_count": 25,
   "metadata": {
    "collapsed": false
   },
   "outputs": [
    {
     "data": {
      "text/plain": [
       "3.7416573867739413"
      ]
     },
     "execution_count": 25,
     "metadata": {},
     "output_type": "execute_result"
    }
   ],
   "source": [
    "C.std()"
   ]
  },
  {
   "cell_type": "markdown",
   "metadata": {},
   "source": [
    "__Standard Deviation Formula__\n",
    "$$\n",
    "s = \\sqrt{\\frac{\\sum (x - \\overline{x})^{2}}{n - 1}}\n",
    "$$\n",
    "\n",
    "Just by looking at this formula, you can probably guess that it is not easy to compute the standard deviation of a set of numbers.  However, it is very important that you understand why the formula will give us a larger value of _s_ when we have a date set with less spread.\n",
    "\n",
    "__Sample variance Formula__\n",
    "$$\n",
    "s^{2} = \\frac{\\sum(x-x)^{2}}{n-1}\n",
    "$$\n",
    "\n",
    "Let's say data set A represents faculty members' age"
   ]
  },
  {
   "cell_type": "code",
   "execution_count": 26,
   "metadata": {
    "collapsed": false
   },
   "outputs": [
    {
     "data": {
      "text/plain": [
       "0    40\n",
       "1    30\n",
       "2    70\n",
       "3    20\n",
       "4    50\n",
       "5    60\n",
       "dtype: int64"
      ]
     },
     "execution_count": 26,
     "metadata": {},
     "output_type": "execute_result"
    }
   ],
   "source": [
    "A"
   ]
  },
  {
   "cell_type": "code",
   "execution_count": 27,
   "metadata": {
    "collapsed": false
   },
   "outputs": [
    {
     "data": {
      "text/plain": [
       "45.0"
      ]
     },
     "execution_count": 27,
     "metadata": {},
     "output_type": "execute_result"
    }
   ],
   "source": [
    "A.median()"
   ]
  },
  {
   "cell_type": "markdown",
   "metadata": {},
   "source": [
    "$$\\overline{x} = 45$$"
   ]
  },
  {
   "cell_type": "markdown",
   "metadata": {},
   "source": [
    "So we have our values--where do we start with the formula?  Well, we start by finding the median so we can begin by subtracting the values of our data set by the median, which is this step of the formula:\n",
    "\n",
    "$$(x -\\overline{x})$$\n",
    "\n",
    "Then we work on squaring the values\n",
    "\n",
    "$$(x -\\overline{x})^{2}$$"
   ]
  },
  {
   "cell_type": "code",
   "execution_count": 28,
   "metadata": {
    "collapsed": false
   },
   "outputs": [
    {
     "data": {
      "text/plain": [
       "1750.0"
      ]
     },
     "execution_count": 28,
     "metadata": {},
     "output_type": "execute_result"
    }
   ],
   "source": [
    "# let's implement these steps in python\n",
    "def sVariance(data):\n",
    "    s = []\n",
    "    sum = 0\n",
    "    for i in data:\n",
    "        s.append((i - data.mean())**2)\n",
    "    for i in s:\n",
    "        sum = sum + i\n",
    "    return sum\n",
    "\n",
    "sVariance(A)"
   ]
  },
  {
   "cell_type": "markdown",
   "metadata": {},
   "source": [
    "Next we need to take the number and divide it by:\n",
    "\n",
    "$$n-1$$"
   ]
  },
  {
   "cell_type": "code",
   "execution_count": 29,
   "metadata": {
    "collapsed": false
   },
   "outputs": [
    {
     "data": {
      "text/plain": [
       "350.0"
      ]
     },
     "execution_count": 29,
     "metadata": {},
     "output_type": "execute_result"
    }
   ],
   "source": [
    "# let's implement n-1 into our function\n",
    "def sVariance(data):\n",
    "    s = []\n",
    "    sum = 0\n",
    "    for i in data:\n",
    "        s.append((i - data.mean())**2)\n",
    "    for i in s:\n",
    "        sum = sum + i\n",
    "    sum = sum / (len(s) -1)\n",
    "    return sum\n",
    "\n",
    "sVariance(A)"
   ]
  },
  {
   "cell_type": "markdown",
   "metadata": {},
   "source": [
    "$$s^{2} = 350$$"
   ]
  },
  {
   "cell_type": "markdown",
   "metadata": {},
   "source": [
    "For the __sample standard deviation__ and the __sample variance__ these steps so far are similar, except that in order to find the __sample standard deviation__ we have to take the squar root of the __sample variance__\n",
    "\n",
    "$$Sample\\;Standard\\;Deviation = \\sqrt{Sample\\;Variance}$$"
   ]
  },
  {
   "cell_type": "code",
   "execution_count": 30,
   "metadata": {
    "collapsed": false
   },
   "outputs": [
    {
     "data": {
      "text/plain": [
       "18.708286933869708"
      ]
     },
     "execution_count": 30,
     "metadata": {},
     "output_type": "execute_result"
    }
   ],
   "source": [
    "def sDeviation(data):\n",
    "    s = []\n",
    "    sum = 0\n",
    "    for i in data:\n",
    "        s.append((i - data.mean())**2)\n",
    "    for i in s:\n",
    "        sum = sum + i\n",
    "    sum = sum / (len(s) -1)\n",
    "    return math.sqrt(sum)\n",
    "\n",
    "sDeviation(A)"
   ]
  },
  {
   "cell_type": "code",
   "execution_count": 31,
   "metadata": {
    "collapsed": false
   },
   "outputs": [
    {
     "data": {
      "text/plain": [
       "18.708286933869708"
      ]
     },
     "execution_count": 31,
     "metadata": {},
     "output_type": "execute_result"
    }
   ],
   "source": [
    "A.std()"
   ]
  },
  {
   "cell_type": "markdown",
   "metadata": {},
   "source": [
    "Like before, the notation differs between sample and population; therefore, observe the following rule:\n",
    "\n",
    "$$\\sigma = Standard\\;derivation\\;of\\;entire\\;population \\\\\n",
    "s = Sample\\;standard\\;derivation$$"
   ]
  },
  {
   "cell_type": "markdown",
   "metadata": {},
   "source": [
    "### Chebyshev's Rule\n",
    "\n",
    "We will introduce a new variable, __k__, which stands for the number of standard deviations we travel to either side of the mean.\n",
    "\n",
    "In general, there are only three intervals that we can reference when using Chebyshev's Rule:\n",
    "$$1. \\;\\;\\;\\overline{x}-ks \\\\\n",
    "2. \\;\\;\\; \\overline{x}\\pm ks \\\\\n",
    "3. \\;\\;\\; \\overline{x}+ks$$\n",
    "\n",
    "1. The interval that contains all values to the left of the mean\n",
    "2. The interval that contains all x values\n",
    "3. The interval that contains all values to the right of the mean\n",
    "\n",
    "According to Chebyshev, the _maximum_ proportion of data is:\n",
    "$$\\frac{1}{k^{2}}$$\n",
    "\n",
    "According to Chebyshev, the _minimum_ proportion of data is:\n",
    "$$1-\\frac{1}{k^{2}}$$\n",
    "\n",
    "At this point, we should use Chebyshev's Rule to solve any problem that deals with two things:\n",
    "1. An interval of numbers.\n",
    "2. A reference to the amount of data in that interval.\n",
    "\n",
    "_Example_: A study was performed to examine the amount of money college students had in their bank accounts at the beginning of the academic year.  A random sample of students was taken and each students' account balence was recorded.  The mean account balance of the students sampled was 250 and the standard deviation was 50.  How many students in the sample had a bank account balance between 125 and 375?"
   ]
  },
  {
   "cell_type": "code",
   "execution_count": 32,
   "metadata": {
    "collapsed": true
   },
   "outputs": [],
   "source": [
    "def find_k(std, mean, point):\n",
    "    if mean > point:\n",
    "        interval = mean - point\n",
    "    else:\n",
    "        interval = point - mean\n",
    "    k = (interval / std)\n",
    "    return k"
   ]
  },
  {
   "cell_type": "code",
   "execution_count": 33,
   "metadata": {
    "collapsed": false
   },
   "outputs": [
    {
     "data": {
      "text/plain": [
       "2.5"
      ]
     },
     "execution_count": 33,
     "metadata": {},
     "output_type": "execute_result"
    }
   ],
   "source": [
    "find_k(50, 250, 375)"
   ]
  },
  {
   "cell_type": "code",
   "execution_count": 34,
   "metadata": {
    "collapsed": false
   },
   "outputs": [
    {
     "data": {
      "text/plain": [
       "2.5"
      ]
     },
     "execution_count": 34,
     "metadata": {},
     "output_type": "execute_result"
    }
   ],
   "source": [
    "find_k(50, 250, 125)"
   ]
  },
  {
   "cell_type": "code",
   "execution_count": 35,
   "metadata": {
    "collapsed": true
   },
   "outputs": [],
   "source": [
    "def chebyMin(k):\n",
    "    sum = 1 - (1 / (k**2))\n",
    "    return sum"
   ]
  },
  {
   "cell_type": "code",
   "execution_count": 36,
   "metadata": {
    "collapsed": false
   },
   "outputs": [
    {
     "data": {
      "text/plain": [
       "0.84"
      ]
     },
     "execution_count": 36,
     "metadata": {},
     "output_type": "execute_result"
    }
   ],
   "source": [
    "chebyMin(2.5)"
   ]
  },
  {
   "cell_type": "markdown",
   "metadata": {},
   "source": [
    "_modified example_: A study was performed to exmine the amout [...] The mean acount balance of the students' sample was 250 and the standard deviation was 50.  Construct an interval centered about the mean that contains at least 80% of the bank account balances.\n",
    "\n",
    "We can use Chebyshev's rule for setting the interval's left and right sides using the mean and standard deviation. Remember:\n",
    "\n",
    "$$\\overline{x} - ks\\;\\;\\; (left side) \\\\\n",
    "\\overline{x} + ks\\;\\;\\; (right side)$$"
   ]
  },
  {
   "cell_type": "code",
   "execution_count": 37,
   "metadata": {
    "collapsed": true
   },
   "outputs": [],
   "source": [
    "def cheby_k_percent(proportion):\n",
    "    sum = math.sqrt((1 / ((proportion - 1) * -1)))\n",
    "    return sum"
   ]
  },
  {
   "cell_type": "code",
   "execution_count": 38,
   "metadata": {
    "collapsed": false
   },
   "outputs": [
    {
     "data": {
      "text/plain": [
       "2.23606797749979"
      ]
     },
     "execution_count": 38,
     "metadata": {},
     "output_type": "execute_result"
    }
   ],
   "source": [
    "cheby_k_percent(.80)"
   ]
  },
  {
   "cell_type": "code",
   "execution_count": 39,
   "metadata": {
    "collapsed": false
   },
   "outputs": [
    {
     "data": {
      "text/plain": [
       "0.8007015306122449"
      ]
     },
     "execution_count": 39,
     "metadata": {},
     "output_type": "execute_result"
    }
   ],
   "source": [
    "chebyMin(2.24)"
   ]
  },
  {
   "cell_type": "code",
   "execution_count": 40,
   "metadata": {
    "collapsed": true
   },
   "outputs": [],
   "source": [
    "def chebysRule(mean, k, std):\n",
    "    sum1 = mean - (k * std)\n",
    "    sum2 = mean + (k * std)\n",
    "    return sum1, sum2"
   ]
  },
  {
   "cell_type": "code",
   "execution_count": 41,
   "metadata": {
    "collapsed": false
   },
   "outputs": [
    {
     "data": {
      "text/plain": [
       "(138.0, 362.0)"
      ]
     },
     "execution_count": 41,
     "metadata": {},
     "output_type": "execute_result"
    }
   ],
   "source": [
    "chebysRule(250, 2.24, 50)"
   ]
  },
  {
   "cell_type": "markdown",
   "metadata": {},
   "source": [
    "_Modified Example_: A study was performed to examine the amount of money college [...] THe mean account balance of the students sampled was 250, the standard deviation was 50.  What can you conclude about the percentage of student that had more than 400 in their bank accounts?\n",
    "\n",
    "We need to find out what data is behond 400, so, we use Chebyshev's Maximum rule, remember:\n",
    "\n",
    "$$\\frac{1}{k^{2}}$$"
   ]
  },
  {
   "cell_type": "code",
   "execution_count": 42,
   "metadata": {
    "collapsed": true
   },
   "outputs": [],
   "source": [
    "def cheby_k_upperBound(mean, std, upperBound):\n",
    "    sum = (upperBound - mean) / std\n",
    "    return sum"
   ]
  },
  {
   "cell_type": "code",
   "execution_count": 43,
   "metadata": {
    "collapsed": false
   },
   "outputs": [
    {
     "data": {
      "text/plain": [
       "3.0"
      ]
     },
     "execution_count": 43,
     "metadata": {},
     "output_type": "execute_result"
    }
   ],
   "source": [
    "cheby_k_upperBound(250, 50, 400)"
   ]
  },
  {
   "cell_type": "code",
   "execution_count": 44,
   "metadata": {
    "collapsed": true
   },
   "outputs": [],
   "source": [
    "def chebyMax(k):\n",
    "    sum = 1 / (k**2)\n",
    "    return sum"
   ]
  },
  {
   "cell_type": "code",
   "execution_count": 45,
   "metadata": {
    "collapsed": false
   },
   "outputs": [
    {
     "data": {
      "text/plain": [
       "0.1111111111111111"
      ]
     },
     "execution_count": 45,
     "metadata": {},
     "output_type": "execute_result"
    }
   ],
   "source": [
    "chebyMax(3)"
   ]
  },
  {
   "cell_type": "markdown",
   "metadata": {},
   "source": [
    "### The Empirical Rule\n",
    "\n",
    "Like Chebyshv's Rule, the __Empirical Rule__ will involve two general items:\n",
    "\n",
    "1. A reference to an interval of numbers.\n",
    "2. A discussion regarding the amount of data in that interval.\n",
    "\n",
    "However, unlike Chebyshev's Rule, you will NOT be give an Empirical Rule formula allowing you to determine how much data is contained in specified intervals centered around the mean.\n",
    "\n",
    "Recall that Chebyshev's Rule can be applied to ANY data set.  This will NOT be the case with the Empirical Rule!\n",
    "\n",
    "__Empirical Rule Restrictions__:\n",
    "1. For now, you will only be allowed to apply the Empirical Rule to k values of 1, 2, or 3 only.\n",
    "2. The Empirical Rule can ONLY be applied to data sets that are __symetric__ and __mound-shaped__!\n",
    "\n",
    "The good news is that the Empirical Rule is a much more precise rule than Chebyshev's.  The bad news is that you MUST have a mound-shaped and symmetric data set in order to apply the Empirical Rule.  In addition, if k is anything other than 1, 2, or 3, you will NOT be able to use the Empirical Rule.\n",
    "\n",
    "#### The rule:\n",
    "\n",
    "1. Approximately __68%__ of the measurments will fall within __1 standard deviations__ away from the mean.\n",
    "2. Approximately __95%__ of the measurments will fall within __2 standard deviations__ away from the mean.\n",
    "3. Approximately __99.7%__ of the measurements will fall within __3 standard deviations__ away from the mean.\n",
    "\n",
    "This corrosponds to the following formulae:\n",
    "\n",
    "$$\\overline{x}\\pm 1s \\\\\n",
    "\\overline{x}\\pm 2s \\\\\n",
    "\\overline{x}\\pm 3s$$\n",
    "\n",
    "### Knowledge Test\n",
    "\n",
    "Newspapers in large cities typically publish data on the selling prices of homes in the area they represent.  A random sample of recently sold single-family homes (with at least three bedrooms) was taken in the counties of Santa Clara and San Mateo in the San Francisco Bay Area--a location where home prices are consistently high--and the sale prices were recorded.  The mean of the sample was 1,250,000 and the sample standard deviation was 200,000.  It is known that the distribution of sales prices of homes in the Bay Area are not mound-shaped and symmetric.\n",
    "\n",
    "+ _What would be more appropriate to use with this problem, Chebyshev's Rule or the Empirical Rule?  Why?_\n",
    "\n",
    "Chebyshev's Rule; the distribution is not mound-shaped and symmetric.\n",
    "\n",
    "+ _How many homes sold for more than 1,742,000?_"
   ]
  },
  {
   "cell_type": "code",
   "execution_count": 46,
   "metadata": {
    "collapsed": false
   },
   "outputs": [
    {
     "data": {
      "text/plain": [
       "2.46"
      ]
     },
     "execution_count": 46,
     "metadata": {},
     "output_type": "execute_result"
    }
   ],
   "source": [
    "cheby_k_upperBound(1250000, 200000, 1742000)"
   ]
  },
  {
   "cell_type": "code",
   "execution_count": 47,
   "metadata": {
    "collapsed": false
   },
   "outputs": [
    {
     "data": {
      "text/plain": [
       "0.16524555489457335"
      ]
     },
     "execution_count": 47,
     "metadata": {},
     "output_type": "execute_result"
    }
   ],
   "source": [
    "chebyMax(2.46)"
   ]
  },
  {
   "cell_type": "markdown",
   "metadata": {},
   "source": [
    "+ _What proportion of homes sold for some amount between 1,250,000 and 1,650,000?_\n",
    "\n",
    "This is a trick question--remember--there are only three intervals wto which we can apply Chebyshev's Rule:\n",
    "* An interval that is centered around the mean\n",
    "* An interval for which the lower bound is above the mean that has no upper bound\n",
    "* An interval for which the upper bound is below the mean that has no lower bound\n",
    "\n",
    "The interval inquestion here has the mean as the lower bound.  Chebyshev's rule cannot help us with that.\n",
    "\n",
    "+ _What can you say about the percent of homes that sold for between 758,000 and 1,742,000?"
   ]
  },
  {
   "cell_type": "code",
   "execution_count": 48,
   "metadata": {
    "collapsed": false
   },
   "outputs": [
    {
     "data": {
      "text/plain": [
       "2.46"
      ]
     },
     "execution_count": 48,
     "metadata": {},
     "output_type": "execute_result"
    }
   ],
   "source": [
    "find_k(200000, 1250000, 758000)"
   ]
  },
  {
   "cell_type": "code",
   "execution_count": 49,
   "metadata": {
    "collapsed": false
   },
   "outputs": [
    {
     "data": {
      "text/plain": [
       "0.8347544451054266"
      ]
     },
     "execution_count": 49,
     "metadata": {},
     "output_type": "execute_result"
    }
   ],
   "source": [
    "chebyMin(2.46)"
   ]
  },
  {
   "cell_type": "markdown",
   "metadata": {},
   "source": [
    "_Example 2_: The National Organization for Educational Research keeps track of GPAs of College students across the nation.  In order to maintain accurate records, several samples are taken yearly by the organization.  One such sample of GPAs was recently taken from students across the country and the mean and standard deviation were determined to be 2.55 and 0.45 respectively.  It is known that the data set collected was mound-shaped and symmetric.\n",
    "\n",
    "+ _What would be more appropriate to use with this problem, Chebyshev's Rule or the Empirical Rule? Why?_\n",
    "\n",
    "The Empirical Rule because the distribution is mound-shaped and symmetric.\n",
    "\n",
    "+ _Construct an interval that contains approximately 95% of the GPAs_\n",
    "\n",
    "Since 95% of the measurements fall between two standard deviations away from the mean:"
   ]
  },
  {
   "cell_type": "code",
   "execution_count": 50,
   "metadata": {
    "collapsed": true
   },
   "outputs": [],
   "source": [
    "def empiricalRule(mean, std, num_std):\n",
    "    sum1 = mean - (num_std * std)\n",
    "    sum2 = mean+ (num_std * std)\n",
    "    return sum1, sum2"
   ]
  },
  {
   "cell_type": "code",
   "execution_count": 51,
   "metadata": {
    "collapsed": false
   },
   "outputs": [
    {
     "data": {
      "text/plain": [
       "(1.65, 3.4499999999999997)"
      ]
     },
     "execution_count": 51,
     "metadata": {},
     "output_type": "execute_result"
    }
   ],
   "source": [
    "empiricalRule(2.55, 0.45, 2)"
   ]
  },
  {
   "cell_type": "code",
   "execution_count": 52,
   "metadata": {
    "collapsed": false
   },
   "outputs": [
    {
     "data": {
      "text/plain": [
       "1.0000000000000004"
      ]
     },
     "execution_count": 52,
     "metadata": {},
     "output_type": "execute_result"
    }
   ],
   "source": [
    "find_k(0.45, 2.55, 3.00)"
   ]
  },
  {
   "cell_type": "markdown",
   "metadata": {},
   "source": [
    "The empirical rule says that one standard deviation away from the mean equals 68%!\n",
    "\n",
    "+ _Students in the 84th percentile are eligible to apply for a National Scholarship.  Based on the sample taken, what is the minimum GPA required to qualify for the scholarship?_\n",
    "\n",
    "Since we know already that k=1 and that the 68% is contained within the upper and lower bounds, we can deduce that both outer edges are 16% each.  Since 68 + 16 = 84, then everythin from the outer bound and beyond is what we are looking for; at least, in this instance, we're looking for the outer bound."
   ]
  },
  {
   "cell_type": "code",
   "execution_count": 53,
   "metadata": {
    "collapsed": false
   },
   "outputs": [
    {
     "data": {
      "text/plain": [
       "(2.0999999999999996, 3.0)"
      ]
     },
     "execution_count": 53,
     "metadata": {},
     "output_type": "execute_result"
    }
   ],
   "source": [
    "empiricalRule(2.55, 0.45, 1)"
   ]
  },
  {
   "cell_type": "markdown",
   "metadata": {},
   "source": [
    "Every student with a GPA of 3.00 or higher will qualify for the scholarship.\n",
    "\n",
    "_Example 3_: Given a data set with a max value of 525 and a minimum value of 315, what would you estimate the standard deviation to be?\n",
    "\n",
    "Typicall, whether we use either Chebyshev's Rule or the EMpirical Rule, most, if not all, of our data will fall within 3 standard deviations away from the mean.  Thus, the range of the data would be roughly the same as the distance corresponding to the interval within 3 standard deviations away from the mean.  That is, the range will roughly be the same as 6 standard deviations.  If the range roughly equals _6s_ then we would expect _s_ to roughly equal _range/6_"
   ]
  },
  {
   "cell_type": "code",
   "execution_count": 54,
   "metadata": {
    "collapsed": false
   },
   "outputs": [
    {
     "data": {
      "text/plain": [
       "210"
      ]
     },
     "execution_count": 54,
     "metadata": {},
     "output_type": "execute_result"
    }
   ],
   "source": [
    "525 - 315 # gives me the range"
   ]
  },
  {
   "cell_type": "code",
   "execution_count": 55,
   "metadata": {
    "collapsed": false
   },
   "outputs": [
    {
     "data": {
      "text/plain": [
       "35.0"
      ]
     },
     "execution_count": 55,
     "metadata": {},
     "output_type": "execute_result"
    }
   ],
   "source": [
    "210 / 6 #estimate for the standard deviation"
   ]
  },
  {
   "cell_type": "markdown",
   "metadata": {},
   "source": [
    "### Measures of Relative Standing\n",
    "\n",
    "Measures of relative standing are simply numbers that help us to describe how a particular measurement compares to the rest of the values in a data set.\n",
    "\n",
    "For example, if your instructor grades on a curve, then your actual score on a test may not be as important as the number of students who had a score worse than your score.  Suppose that you took a statistics examp with 30 other students and recieved a score of 55 out of 100.  At first this might seem fairly depressing, but if 25 of those students had a score lower than you, then your __relative standing__ in the class is quite high.  After all, only 4 students scored higher than you!  That is, relative to the rest of the data values you are in the top of the class.\n",
    "\n",
    "In this section we will look at two main measures of relative standing.  __Percentiles and z-scores__.  Below is an overview.\n",
    "#### Percentiles\n",
    "\n",
    "+ Gives the percentage of data points below a particular value\n",
    "+ Describes your position in relation to all other data points\n",
    "+ Always reported as a percentage\n",
    "\n",
    "__Percentile__: Corresponds to the percentage of data points BELOW the particular obersvation in question.\n",
    "\n",
    "Suppose that we collect data from 50 adult Americans on their percetn of body fat.  Then we would let X = percent body fat.  Assume that we pick one X-value from the 50 adult Americans who have a body fat percentage that is lower than the data value of 23%.  Suppose that it turns out that 40 of the data values are less than 23% and the rest are higher.\n",
    "\n",
    "In order to compute the percentage of the 50 data values that are lower than the selected value of 23% body fat, we simply take 40 and divide it by 50, that is _40/50 = 0.80_.  We have a special way of reporting the percentage of data below a particular data value.  In this case we would say __\"if you have body fat percentage of 23%, then you are in the 80 percentile.\"__  That is, 80% of the sample of 50 body fat percentages are lower than the particular data value of 23%.\n",
    "\n",
    "#### z-score\n",
    "\n",
    "$$ z = \\frac{x - \\overline{x}}{s}$$\n",
    "\n",
    "+ Makes use of the mean and standard deviation of a data set\n",
    "+ Distance from the mean is expressed as the number of standard deviations from the mean\n",
    "+ z is unitless\n",
    "\n",
    "__z-score__: The number of standard deviations that a particular observation deviates from the mean.\n",
    "\n",
    "Why do people use z-scores?  Suppose that you recently took an exam in one of your courses, and you were told that the z-score for your exam is _z = 3.25_.  But you were not told the actual score on your exam.  Would that give you an idea of how well you had done on the exam?\n",
    "\n",
    "Yes, it should--from your knowledge of the Empirical Rule and Cheybshe's Rule, you know that nearly all the data in a distribution lies within 3 standard deviations of the mean.  Since the z-score of your exam is more than 3 standard devations above the mean, then you know that the actual score on your exam is higher than most, if not all, of the other exam scores.\n",
    "\n",
    "__How to find the z-score__: Use this simple formula:\n",
    "\n",
    "$$z = \\frac{x - \\mu}{\\sigma} \\;\\;\\; (for\\;a\\;population) \\\\\n",
    "z = \\frac{x - \\overline{x}}{\\sigma} \\;\\;\\; (for\\;a\\;sample)$$\n",
    "\n",
    "So, if there is an exam with a mean of 75 and a standard derivation of 5, and you score 85, how do we your associated z-score?"
   ]
  },
  {
   "cell_type": "code",
   "execution_count": 56,
   "metadata": {
    "collapsed": true
   },
   "outputs": [],
   "source": [
    "def zscore(mean, std, x):\n",
    "    sum = (x - mean) / std\n",
    "    return sum"
   ]
  },
  {
   "cell_type": "code",
   "execution_count": 57,
   "metadata": {
    "collapsed": false
   },
   "outputs": [
    {
     "data": {
      "text/plain": [
       "2.0"
      ]
     },
     "execution_count": 57,
     "metadata": {},
     "output_type": "execute_result"
    }
   ],
   "source": [
    "zscore(75, 5, 85)"
   ]
  },
  {
   "cell_type": "markdown",
   "metadata": {},
   "source": [
    "_Example_: The unemployment rates of the 15 largest US metropolitan areas for the 04-05 fiscal year are given below.  Each data value represents the average unemployment rage seasonally adjusted for the fiscal year and is rounded to the nearest one-tenth of a percent.  Assume that the data is a sample from all major US metropolitan areas."
   ]
  },
  {
   "cell_type": "code",
   "execution_count": 58,
   "metadata": {
    "collapsed": false
   },
   "outputs": [
    {
     "data": {
      "text/plain": [
       "count    15.000000\n",
       "mean      5.020000\n",
       "std       0.928286\n",
       "min       3.700000\n",
       "25%       4.450000\n",
       "50%       4.900000\n",
       "75%       5.550000\n",
       "max       7.100000\n",
       "dtype: float64"
      ]
     },
     "execution_count": 58,
     "metadata": {},
     "output_type": "execute_result"
    }
   ],
   "source": [
    "unemployment = [5.2, 4.6, 5.7, 4.9, 3.7, 6.4, 7.1, 4.6, 5.0, 4.2, 3.9, 5.7, 4.3, 5.4, 4.6]\n",
    "rates = pd.Series(unemployment)\n",
    "rates.describe()"
   ]
  },
  {
   "cell_type": "code",
   "execution_count": 59,
   "metadata": {
    "collapsed": false
   },
   "outputs": [
    {
     "data": {
      "text/plain": [
       "-0.8833351287299358"
      ]
     },
     "execution_count": 59,
     "metadata": {},
     "output_type": "execute_result"
    }
   ],
   "source": [
    "zscore(5.02, .9283, 4.2)"
   ]
  },
  {
   "cell_type": "markdown",
   "metadata": {},
   "source": [
    "### Outliers\n",
    "\n",
    "__Outliers__ are typically attributable to one of the following causes:\n",
    "\n",
    "1. The measurement is observed, recorded or entered into the computer incorrectly.\n",
    "2. The measurement comes from a different population.\n",
    "3. The measurement is correct, but represents a rare (cahnce) event.\n",
    "\n",
    "The only situation that we will consider in this course is item 3, when the measurement is correct, but it is a rare event.\n",
    "\n",
    "#### Rules for detecting outliers\n",
    "\n",
    "Any observation that is more than 3 standard deviations away from the mean is considered an outlier.\n",
    "\n",
    "That is, any x-value whose associated z-score is < 3 or > 3, is called an outlier.\n",
    "\n",
    "### Test your Knowledge\n",
    "\n",
    "In recent years, many of the states in the US has experienced budgetary problems, with many states having serious shortfalls in their budgest.  These problems cause many of the groups that are state funded to suffer, including education, police and fire protection, and state employees to name a few.  The data in the following table is a random sample of state budgets during the 04-05 fiscal year.  All data is rounded to the nearest billion dollars.  The largest budget of 81.7 billion dollars is from the most populous State of California.\n",
    "\n",
    "Here's our data set:"
   ]
  },
  {
   "cell_type": "code",
   "execution_count": 60,
   "metadata": {
    "collapsed": true
   },
   "outputs": [],
   "source": [
    "stateBudgets = [12.7, 23.2, 14.1, 13.2, 56.6, 25.1, 81.7, 7.7, 49.4, 22.5]"
   ]
  },
  {
   "cell_type": "markdown",
   "metadata": {},
   "source": [
    "The sample mean is 30.62 billion dollars and the sample standard deviation is 24.06 billion.\n",
    "\n",
    "+ _If Arizona is the state with the budget of 7.7 billion dollars, then find and interpret the associated z-score_"
   ]
  },
  {
   "cell_type": "code",
   "execution_count": 61,
   "metadata": {
    "collapsed": false
   },
   "outputs": [
    {
     "data": {
      "text/plain": [
       "count    10.00000\n",
       "mean     30.62000\n",
       "std      24.06264\n",
       "min       7.70000\n",
       "25%      13.42500\n",
       "50%      22.85000\n",
       "75%      43.32500\n",
       "max      81.70000\n",
       "dtype: float64"
      ]
     },
     "execution_count": 61,
     "metadata": {},
     "output_type": "execute_result"
    }
   ],
   "source": [
    "budgets = pd.Series(stateBudgets)\n",
    "budgets.describe() # check the accuracy of the mean and std"
   ]
  },
  {
   "cell_type": "code",
   "execution_count": 62,
   "metadata": {
    "collapsed": false
   },
   "outputs": [
    {
     "data": {
      "text/plain": [
       "-0.9526184538653368"
      ]
     },
     "execution_count": 62,
     "metadata": {},
     "output_type": "execute_result"
    }
   ],
   "source": [
    "zscore(30.62, 24.06, 7.7)"
   ]
  },
  {
   "cell_type": "markdown",
   "metadata": {},
   "source": [
    "+ _The state of Texas has the state budget that corresponds to 56.6 billion dollars.  Which of the two states, Arizona or Texas has a state budget which is farther from the mean?_"
   ]
  },
  {
   "cell_type": "code",
   "execution_count": 63,
   "metadata": {
    "collapsed": false
   },
   "outputs": [
    {
     "data": {
      "text/plain": [
       "1.0798004987531173"
      ]
     },
     "execution_count": 63,
     "metadata": {},
     "output_type": "execute_result"
    }
   ],
   "source": [
    "zscore(30.62, 24.06, 56.6)"
   ]
  },
  {
   "cell_type": "markdown",
   "metadata": {},
   "source": [
    "Texas has a higher z-score.\n",
    "\n",
    "+ _The state of California has the largest budget of 81.7 billion dollars.  Is the state budget of California an outlier?_"
   ]
  },
  {
   "cell_type": "code",
   "execution_count": 64,
   "metadata": {
    "collapsed": false
   },
   "outputs": [
    {
     "data": {
      "text/plain": [
       "2.123025768911056"
      ]
     },
     "execution_count": 64,
     "metadata": {},
     "output_type": "execute_result"
    }
   ],
   "source": [
    "zscore(30.62, 24.06, 81.7)"
   ]
  },
  {
   "cell_type": "markdown",
   "metadata": {},
   "source": [
    "No, it is not an outlier since it is not more than 3 standard deviations from the mean.\n",
    "\n",
    "+ _If a particular state has a z-score of -0.31, then waht is the state budget for that state?_"
   ]
  },
  {
   "cell_type": "code",
   "execution_count": 65,
   "metadata": {
    "collapsed": true
   },
   "outputs": [],
   "source": [
    "def zscoreNoX(mean, std, z):\n",
    "    sum = ((z)*(std)) + mean\n",
    "    return sum"
   ]
  },
  {
   "cell_type": "code",
   "execution_count": 66,
   "metadata": {
    "collapsed": false
   },
   "outputs": [
    {
     "data": {
      "text/plain": [
       "23.1614"
      ]
     },
     "execution_count": 66,
     "metadata": {},
     "output_type": "execute_result"
    }
   ],
   "source": [
    "zscoreNoX(30.62, 24.06, -0.31)"
   ]
  }
 ],
 "metadata": {
  "kernelspec": {
   "display_name": "Python 3",
   "language": "python",
   "name": "python3"
  },
  "language_info": {
   "codemirror_mode": {
    "name": "ipython",
    "version": 3
   },
   "file_extension": ".py",
   "mimetype": "text/x-python",
   "name": "python",
   "nbconvert_exporter": "python",
   "pygments_lexer": "ipython3",
   "version": "3.4.3"
  }
 },
 "nbformat": 4,
 "nbformat_minor": 0
}
