{
 "cells": [
  {
   "cell_type": "code",
   "execution_count": 52,
   "metadata": {
    "collapsed": true
   },
   "outputs": [],
   "source": [
    "from scipy import stats\n",
    "import math\n",
    "import numpy as np\n",
    "import pandas as pd\n",
    "import matplotlib.pyplot as plt\n",
    "plt.style.use('ggplot')\n",
    "%matplotlib inline"
   ]
  },
  {
   "cell_type": "markdown",
   "metadata": {},
   "source": [
    "# Midterm\n",
    "\n",
    "_MATH 10 MIDTERM Chapters 1 - 6_\n",
    "\n",
    "__Instructions:__\n",
    "\n",
    "This midterm is made up of 10 multiple choice questions, each problem is worth 15 points. This exam is open book and open notes. You may work on the exam problems with other students enrolled in the class -- no help is allowed from anyone else. There is no time limit to the exam. In fact, you are free to print out the exam, log out, work on it, then log back in to submit your answers. Please do not post any questions directly related to midterm problems in the Forums until after the midterm window has closed. You have two attempts to take the midterm. Only your highest score counts. However, you must submit the exam before the exam window closes. Be sure to round z-values to 2 decimal places and, unless instructed otherwise, round probabiltites to 4 decimal places.\n",
    "\n",
    "![img](Img/Areas-of-a-normal-curve.png)\n",
    "\n",
    "__Question 1__:\n",
    "\n",
    "Jeannie is an experienced business traveler, often traveling back and forth from San Francisco to the East Coast several times per month. To catch her flights from San Francisco she leaves her office one hour before her flight leaves. Her travel time from her office to the departing gate at the San Francisco airport, including the time to park and go through security screening, is __normally distributed__ with a __mean of 46__ minutes and a __standard deviation of 5__ minutes. _What is the probability that Jeannie will miss her flight because her total time for catching her plane exceeds one hour?_ Round your final answer to 4 decimal places.\n",
    "\n",
    "$$\\mu=46 \\\\\n",
    "\\sigma=5 \\\\\n",
    "\\\\\n",
    "P(x \\geq 60)=?$$"
   ]
  },
  {
   "cell_type": "code",
   "execution_count": 2,
   "metadata": {
    "collapsed": true
   },
   "outputs": [],
   "source": [
    "mean = 46\n",
    "std = 5"
   ]
  },
  {
   "cell_type": "code",
   "execution_count": 4,
   "metadata": {
    "collapsed": false
   },
   "outputs": [],
   "source": [
    "def zscore(x, mean, std):\n",
    "    z = (x-mean) / std\n",
    "    return z"
   ]
  },
  {
   "cell_type": "code",
   "execution_count": 5,
   "metadata": {
    "collapsed": false
   },
   "outputs": [
    {
     "data": {
      "text/plain": [
       "2.8"
      ]
     },
     "execution_count": 5,
     "metadata": {},
     "output_type": "execute_result"
    }
   ],
   "source": [
    "zscore(60, mean, std)"
   ]
  },
  {
   "cell_type": "code",
   "execution_count": 9,
   "metadata": {
    "collapsed": false
   },
   "outputs": [
    {
     "data": {
      "text/plain": [
       "0.0025551303304279793"
      ]
     },
     "execution_count": 9,
     "metadata": {},
     "output_type": "execute_result"
    }
   ],
   "source": [
    "x = stats.norm.cdf(2.8)\n",
    "x = 1 - x\n",
    "x # B"
   ]
  },
  {
   "cell_type": "markdown",
   "metadata": {},
   "source": [
    "__Question 2:__\n",
    "\n",
    "Use the same information about Jeannie in the above problem. Jeannie is known to be somewhat lax about getting to the airport in time to catch her flight. Suppose that she decides to leave her office so that __she has a 96% chance of catching her flight__; consequently __there is a 4% chance that she will miss her flight__. _How many minutes before the flight leaves should she leave her office?_ \n",
    "\n",
    "Round your final answer to the nearest minute, then input that whole number below. DO NOT include units. Just input the numerical answer or the system will mark your answer wrong even if you input the correct value."
   ]
  },
  {
   "cell_type": "code",
   "execution_count": 18,
   "metadata": {
    "collapsed": false
   },
   "outputs": [
    {
     "data": {
      "text/plain": [
       "0.96"
      ]
     },
     "execution_count": 18,
     "metadata": {},
     "output_type": "execute_result"
    }
   ],
   "source": [
    "96 / 100"
   ]
  },
  {
   "cell_type": "code",
   "execution_count": 19,
   "metadata": {
    "collapsed": false
   },
   "outputs": [
    {
     "data": {
      "text/plain": [
       "0.04"
      ]
     },
     "execution_count": 19,
     "metadata": {},
     "output_type": "execute_result"
    }
   ],
   "source": [
    "4 / 100"
   ]
  },
  {
   "cell_type": "code",
   "execution_count": 31,
   "metadata": {
    "collapsed": false
   },
   "outputs": [
    {
     "data": {
      "text/plain": [
       "1.7506860712521692"
      ]
     },
     "execution_count": 31,
     "metadata": {},
     "output_type": "execute_result"
    }
   ],
   "source": [
    "z = stats.norm.ppf(.96)\n",
    "z"
   ]
  },
  {
   "cell_type": "code",
   "execution_count": 32,
   "metadata": {
    "collapsed": true
   },
   "outputs": [],
   "source": [
    "def reversez(z, mean, std):\n",
    "    sum = mean + (z * std)\n",
    "    return sum"
   ]
  },
  {
   "cell_type": "code",
   "execution_count": 33,
   "metadata": {
    "collapsed": false
   },
   "outputs": [
    {
     "data": {
      "text/plain": [
       "54.75343035626085"
      ]
     },
     "execution_count": 33,
     "metadata": {},
     "output_type": "execute_result"
    }
   ],
   "source": [
    "reversez(z, mean, std) # 55"
   ]
  },
  {
   "cell_type": "markdown",
   "metadata": {},
   "source": [
    "__Question 3:__\n",
    "\n",
    "In a busy coffee shop, which is a member of an international chain of coffee shops, 40% of customers order a pastry in addition to their drink. If 20 customers were selected at random during one business day, what is the probability that at least 11 of them did not order a pastry with their drink. Round your answer to 4 decimal places.\n",
    "\n",
    "$$P=0.6 \\\\\n",
    "x=11 \\\\\n",
    "n=20$$"
   ]
  },
  {
   "cell_type": "code",
   "execution_count": 86,
   "metadata": {
    "collapsed": true
   },
   "outputs": [],
   "source": [
    "p = 0.4\n",
    "x = 11\n",
    "n = 20"
   ]
  },
  {
   "cell_type": "code",
   "execution_count": 87,
   "metadata": {
    "collapsed": false
   },
   "outputs": [
    {
     "data": {
      "text/plain": [
       "0.94347363296574693"
      ]
     },
     "execution_count": 87,
     "metadata": {},
     "output_type": "execute_result"
    }
   ],
   "source": [
    "binomcdf = stats.binom.cdf(x, n, p)\n",
    "binomcdf"
   ]
  },
  {
   "cell_type": "code",
   "execution_count": 88,
   "metadata": {
    "collapsed": false
   },
   "outputs": [
    {
     "data": {
      "text/plain": [
       "0.056526367034253067"
      ]
     },
     "execution_count": 88,
     "metadata": {},
     "output_type": "execute_result"
    }
   ],
   "source": [
    "1 - binomcdf # or try the 7599"
   ]
  },
  {
   "cell_type": "markdown",
   "metadata": {},
   "source": [
    "__Question 4:__\n",
    "\n",
    "It has been conjectured by the U.S. Census Bureau that \"approximately 60% of foreign-born people who live in the U.S. are not naturalized citizens\". Suppose that in a national random sample of 70 foreign-born people who live in the U.S. that exactly 32 of them are not naturalized citizens. Select the best answer below."
   ]
  },
  {
   "cell_type": "code",
   "execution_count": null,
   "metadata": {
    "collapsed": true
   },
   "outputs": [],
   "source": [
    "# B"
   ]
  },
  {
   "cell_type": "markdown",
   "metadata": {},
   "source": [
    "__Question 5:__\n",
    "\n",
    "A civil service exam yields scores with a __mean of 81__ and a __standard deviation of 5.5__. Using Chebyshev's Theorem what can we say about the percentage of scores that are above 92?\n",
    "\n",
    "$$\\mu=81 \\\\\n",
    "\\sigma=5.5$$"
   ]
  },
  {
   "cell_type": "code",
   "execution_count": 80,
   "metadata": {
    "collapsed": true
   },
   "outputs": [],
   "source": [
    "mean = 81\n",
    "std = 5.5"
   ]
  },
  {
   "cell_type": "code",
   "execution_count": null,
   "metadata": {
    "collapsed": true
   },
   "outputs": [],
   "source": []
  },
  {
   "cell_type": "markdown",
   "metadata": {},
   "source": [
    "__Question 6:__\n",
    "\n",
    "A civil service exam yields scores which are __normally distributed__ with a __mean of 81__ and a __standard deviation of 5.5__. If the civil service wishes to set a cut-off score on the exam so that 15% of the test takers fail the exam, what should the cut-off score be? Remember to round your z-value to 2 decimal places."
   ]
  },
  {
   "cell_type": "code",
   "execution_count": 84,
   "metadata": {
    "collapsed": false
   },
   "outputs": [
    {
     "data": {
      "text/plain": [
       "1.0364333894937898"
      ]
     },
     "execution_count": 84,
     "metadata": {},
     "output_type": "execute_result"
    }
   ],
   "source": [
    "z = stats.norm.ppf(0.85)\n",
    "z"
   ]
  },
  {
   "cell_type": "code",
   "execution_count": null,
   "metadata": {
    "collapsed": true
   },
   "outputs": [],
   "source": []
  },
  {
   "cell_type": "markdown",
   "metadata": {},
   "source": [
    "__Question 7:__\n",
    "\n",
    "Based on FAA estimates the average age of the fleets of the 10 largest U.S. commercial passenger carriers is __13.4 years__ with a __standard deviation of 1.7 years__. Suppose that 40 airplanes were randomly selected from the fleets of these 10 carriers and were inspected for cracks in these airplanes that are considered too large for flying. What is the probability that the average age of these 40 airplanes is at least 14 years old? Round your answer to 4 decimal places. Remember to round your z-value to two decimal places.\n",
    "\n",
    "$$\\mu=13.4 \\\\\n",
    "\\sigma=1.7 \\\\\n",
    "\\bar{x}=14 \\\\\n",
    "n=40$$"
   ]
  },
  {
   "cell_type": "code",
   "execution_count": 65,
   "metadata": {
    "collapsed": true
   },
   "outputs": [],
   "source": [
    "popmean = 13.4\n",
    "std = 1.7\n",
    "sampmean = 14\n",
    "n = 40"
   ]
  },
  {
   "cell_type": "code",
   "execution_count": 66,
   "metadata": {
    "collapsed": true
   },
   "outputs": [],
   "source": [
    "def central_limit(xbar, mean, std, n):\n",
    "    sum = (xbar - mean) / (std / math.sqrt(n))\n",
    "    return sum"
   ]
  },
  {
   "cell_type": "code",
   "execution_count": 67,
   "metadata": {
    "collapsed": false
   },
   "outputs": [
    {
     "data": {
      "text/plain": [
       "2.2321959954129724"
      ]
     },
     "execution_count": 67,
     "metadata": {},
     "output_type": "execute_result"
    }
   ],
   "source": [
    "z = central_limit(sampmean, popmean, std, n)\n",
    "z"
   ]
  },
  {
   "cell_type": "code",
   "execution_count": 68,
   "metadata": {
    "collapsed": false
   },
   "outputs": [
    {
     "data": {
      "text/plain": [
       "0.9871989940087107"
      ]
     },
     "execution_count": 68,
     "metadata": {},
     "output_type": "execute_result"
    }
   ],
   "source": [
    "stats.norm.cdf(z) # E "
   ]
  },
  {
   "cell_type": "markdown",
   "metadata": {},
   "source": [
    "__Question 8:__\n",
    "\n",
    "Out of a total of 10 college textbooks estimate the standard deviation of their ages if the oldest textbook is known to be 7.9 years old and the newest textbook is 1.3 years old."
   ]
  },
  {
   "cell_type": "code",
   "execution_count": 58,
   "metadata": {
    "collapsed": false
   },
   "outputs": [
    {
     "data": {
      "text/plain": [
       "1.1"
      ]
     },
     "execution_count": 58,
     "metadata": {},
     "output_type": "execute_result"
    }
   ],
   "source": [
    "range = 7.9 - 1.3\n",
    "range / 6 # B"
   ]
  },
  {
   "cell_type": "markdown",
   "metadata": {},
   "source": [
    "__Question 9:__\n",
    "\n",
    "In the California Community Colleges an undergraduate student survey was taken that compares the class of the student to their opinion on whether or not they favor or oppose same sex marriages. The following data is a summary of the survey taken by questioning 500 undergraduate students.\n",
    "\n",
    "||Freshman|\tSophomore|\tJunior|\tSenior|\tTotals|\n",
    "|---|---|---|---|---|\n",
    "|Favor|85|74|64|53|\t276|\n",
    "|Oppose|61|60|55|48|224|\n",
    "|Totals|146|134|119|101|500|\n",
    "\n",
    "If a student from the survey is selected at random, then find the probability that the student favors same sex marriages, given that the student is not a Senior?"
   ]
  },
  {
   "cell_type": "code",
   "execution_count": 59,
   "metadata": {
    "collapsed": false
   },
   "outputs": [
    {
     "data": {
      "text/plain": [
       "223"
      ]
     },
     "execution_count": 59,
     "metadata": {},
     "output_type": "execute_result"
    }
   ],
   "source": [
    "276 - 53"
   ]
  },
  {
   "cell_type": "code",
   "execution_count": 89,
   "metadata": {
    "collapsed": false
   },
   "outputs": [
    {
     "data": {
      "text/plain": [
       "399"
      ]
     },
     "execution_count": 89,
     "metadata": {},
     "output_type": "execute_result"
    }
   ],
   "source": [
    "500 - (48 + 53)"
   ]
  },
  {
   "cell_type": "code",
   "execution_count": 90,
   "metadata": {
    "collapsed": false
   },
   "outputs": [
    {
     "data": {
      "text/plain": [
       "0.5588972431077694"
      ]
     },
     "execution_count": 90,
     "metadata": {},
     "output_type": "execute_result"
    }
   ],
   "source": [
    "223 / 399 # C"
   ]
  },
  {
   "cell_type": "markdown",
   "metadata": {},
   "source": [
    "__Question 10:__\n",
    "\n",
    "Assume that the average full time college student in the U.S. requires a total of 10,500 per year to cover the costs of tutition, books and fees with a standard deviation of 1,300. If 50 full time students are randomly sampled in the U.S., what is the probability that their total annual costs for tutition, books and fees exceed 550,000? Round your answer to 4 decimal places. Remember to round your z-value to 2 decimal places.\n",
    "\n",
    "To answer the question input only the actual number. Do not include units. Do not give your answer in sentence form -- just include the numerical answer rounded to exactly 4 decimal places.\n",
    "\n",
    "$$\\mu=10500 \\\\\n",
    "\\sigma=1300 $$"
   ]
  },
  {
   "cell_type": "code",
   "execution_count": 69,
   "metadata": {
    "collapsed": true
   },
   "outputs": [],
   "source": [
    "mean = 10500\n",
    "std = 1300\n",
    "xbar = (550000 / 50)\n",
    "n = 50"
   ]
  },
  {
   "cell_type": "code",
   "execution_count": 71,
   "metadata": {
    "collapsed": false
   },
   "outputs": [
    {
     "data": {
      "text/plain": [
       "2.7196414661021056"
      ]
     },
     "execution_count": 71,
     "metadata": {},
     "output_type": "execute_result"
    }
   ],
   "source": [
    "z = central_limit(xbar, mean, std, n)\n",
    "z"
   ]
  },
  {
   "cell_type": "code",
   "execution_count": 78,
   "metadata": {
    "collapsed": false
   },
   "outputs": [
    {
     "data": {
      "text/plain": [
       "0.99673236331466886"
      ]
     },
     "execution_count": 78,
     "metadata": {},
     "output_type": "execute_result"
    }
   ],
   "source": [
    "p = stats.norm.cdf(z)\n",
    "p"
   ]
  },
  {
   "cell_type": "code",
   "execution_count": 79,
   "metadata": {
    "collapsed": false
   },
   "outputs": [
    {
     "data": {
      "text/plain": [
       "0.0032676366853311434"
      ]
     },
     "execution_count": 79,
     "metadata": {},
     "output_type": "execute_result"
    }
   ],
   "source": [
    "p = 1 - p\n",
    "p # .0033"
   ]
  }
 ],
 "metadata": {
  "kernelspec": {
   "display_name": "Python 3",
   "language": "python",
   "name": "python3"
  },
  "language_info": {
   "codemirror_mode": {
    "name": "ipython",
    "version": 3
   },
   "file_extension": ".py",
   "mimetype": "text/x-python",
   "name": "python",
   "nbconvert_exporter": "python",
   "pygments_lexer": "ipython3",
   "version": "3.4.3"
  }
 },
 "nbformat": 4,
 "nbformat_minor": 0
}
