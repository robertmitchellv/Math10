{
 "cells": [
  {
   "cell_type": "code",
   "execution_count": 1,
   "metadata": {
    "collapsed": true
   },
   "outputs": [],
   "source": [
    "from scipy import stats\n",
    "import math\n",
    "import numpy as np\n",
    "import pandas as pd\n",
    "import matplotlib.pyplot as plt\n",
    "plt.style.use('ggplot')\n",
    "%matplotlib inline"
   ]
  },
  {
   "cell_type": "markdown",
   "metadata": {
    "collapsed": true
   },
   "source": [
    "## Question 1\n",
    "\n",
    "A medical clinic in a small city in the state of Washington wants to estimate the mean serum cholesterol level (measured in mg of cholesterol per 100 mL of blood) of teenage males. Based on the following summary data taken from a random sample of 10 teenage males from this community, compute a 90% confidence interval for the mean serum cholesterol level of teenage males in this city. Assume that the sample was taken from a normal distribution. Round your confidence limits to 2 decimal places.\n",
    "\n",
    "Summary data:\n",
    "\n",
    "$$ n=10 \\\\\n",
    "\\overline{x}=223.562 \\\\\n",
    "s=24.920$$"
   ]
  },
  {
   "cell_type": "code",
   "execution_count": null,
   "metadata": {
    "collapsed": true
   },
   "outputs": [],
   "source": []
  },
  {
   "cell_type": "markdown",
   "metadata": {},
   "source": [
    "## Question 2\n",
    "\n",
    "Pschological tests are often used to determine the hostility levels in people. High scores on the HLT pschological test corresponds to high hostility levels. Suppose that 26 college students, all with equally high HLT test scores, were separated into two groups randomly. Group 1 (10 students) was treated for high hostility levels by using Method A; whereas Group 2 (16 students) was treated for high hostility levels by using Method B. Both groups were treated for a period of 5 months, at which time all 26 students were again given the HLT test. Below is the summary data on the HLT test for the two groups.\n",
    "\n",
    "Group 1: sample mean is 79 and sample standard deviation is 7\n",
    "\n",
    "Group 2: sample mean is 84 and sample standard deviation is 8\n",
    "\n",
    "Compute a 95% confidence level for the difference in the means of the two treatment methods and select the best answer below. Assume that the independent random samples were taken from normal distributions and that the two population variances are equal."
   ]
  },
  {
   "cell_type": "code",
   "execution_count": null,
   "metadata": {
    "collapsed": true
   },
   "outputs": [],
   "source": []
  },
  {
   "cell_type": "markdown",
   "metadata": {},
   "source": [
    "## Question 3\n",
    "\n",
    "Questions on a statistics exam are considered good questions provided the questions discriminate between students who have studied for the exam and those who have not studied. Suppose that on a particular statistics exam the students were separated into two groups, the group that studied and the other group that had not studied. Data was collected and a 95% confidence interval for the difference in the proportion of those passing the exam from the group that studied and the proportion of those passing the exam from the group that had not studied. The confidence interval turned out to be (-0.005,0.125). Note that sample 1 is from the group that studied and sample 2 is from the group that did not study. Select the best answer."
   ]
  },
  {
   "cell_type": "code",
   "execution_count": null,
   "metadata": {
    "collapsed": true
   },
   "outputs": [],
   "source": []
  },
  {
   "cell_type": "markdown",
   "metadata": {},
   "source": [
    "## Question 4\n",
    "\n",
    "A random sample of size 100 was taken from a population. A 94% confidence interval to estimate the mean of the population was computed based on the sample data. The confidence interval for the mean is: (107.62,129.75). What is the z-value that was used in the computation. Round your z-value to 2 decimal places.\n",
    "\n",
    "To answer the question input only the actual number. Do not include units. Do not give your answer in sentence form -- just include the numerical answer rounded to exactly 2 decimal places."
   ]
  },
  {
   "cell_type": "code",
   "execution_count": null,
   "metadata": {
    "collapsed": true
   },
   "outputs": [],
   "source": []
  },
  {
   "cell_type": "markdown",
   "metadata": {},
   "source": [
    "## Question 5\n",
    "\n",
    "The U.S. Food and Drug Administration (FDA) performed a study that compared the carbohydrate content (as a percentage of weight) of several major brands of corn and potato chips. Fourteen brands of corn chips were sampled and 14 brands of potato chips were sampled. Data was collected and the following 95% confidence interval was computed for the difference in means. Intrepret the 95% confidence interval for the difference in the mean carbohydrate content between the Corn Chip and Potato Chip groups.\n",
    "\n",
    "The C.I. is: $$(27.292,39.836)$$\n",
    "\n",
    "where \n",
    "$${\\mu}_1 = the \\;\\;average \\;\\;carbohydrate \\;\\;content \\;\\;as \\;\\;a \\;\\;percentage \\;\\;of \\;\\;weight \\;\\;in \\;\\;corn \\;\\;chips.$$\n",
    "\n",
    "and \n",
    "$${\\mu}_2 = the \\;\\;average \\;\\;carbohydrate \\;\\;content \\;\\;as \\;\\;a \\;\\;percentage \\;\\;of \\;\\;weight \\;\\;in \\;\\;potato \\;\\;chips.$$\n",
    "\n",
    "Select the best answer below."
   ]
  },
  {
   "cell_type": "code",
   "execution_count": null,
   "metadata": {
    "collapsed": true
   },
   "outputs": [],
   "source": []
  },
  {
   "cell_type": "markdown",
   "metadata": {},
   "source": [
    "## Question 6\n",
    "\n",
    "The width of a confidence interval is defined to be the upper bound of the confidence interval minus the lower bound of the confidence interval. For example, if a confidence interval is (-2.34,9.87), then the width of this confidence interval is 9.87-(-2.34)=12.21. Assume that we are estimating the mean of a population. Assuming that the confidence coefficient, the sample mean and sample standard deviation stay the same, if we decrease the the sample size of a confidence interval from 100 to 50, then the width of that confidence interval will also decrease."
   ]
  },
  {
   "cell_type": "code",
   "execution_count": null,
   "metadata": {
    "collapsed": true
   },
   "outputs": [],
   "source": []
  }
 ],
 "metadata": {
  "kernelspec": {
   "display_name": "Python 3",
   "language": "python",
   "name": "python3"
  },
  "language_info": {
   "codemirror_mode": {
    "name": "ipython",
    "version": 3
   },
   "file_extension": ".py",
   "mimetype": "text/x-python",
   "name": "python",
   "nbconvert_exporter": "python",
   "pygments_lexer": "ipython3",
   "version": "3.4.3"
  }
 },
 "nbformat": 4,
 "nbformat_minor": 0
}
