{
 "cells": [
  {
   "cell_type": "code",
   "execution_count": 17,
   "metadata": {
    "collapsed": true
   },
   "outputs": [],
   "source": [
    "from scipy.stats import norm\n",
    "import pandas as pd\n",
    "import matplotlib.pyplot as plt\n",
    "%matplotlib inline\n",
    "plt.style.use('ggplot')"
   ]
  },
  {
   "cell_type": "markdown",
   "metadata": {},
   "source": [
    "## Question 1\n",
    "\n",
    "With the fluctuation of gas prices today, the mileage ratings of vehicles is of importance to most drivers. However, the ratings advertised by car manufacturers may not bear any relationship to what you get, depending on where, when, and how you drive. Nevertheless, the Environmental Protection Agency (EPA) spends countless hours collecting and analyzing data to determine estimated mileage ratings. The EPA places vehicles on a device called a dynamometer – sort of like a great big “treadmill” for cars -- where every car is put through the same routine of accelerating, braking, coasting, stopping, and switching the engine on and off. The mileage obtained during that standard cycle is then adjusted by a numerical factor to get it closer to \"real world\" experience. Starting with the 2008 model year, the EPA revised those tweaks to bring hybrid mileage ratings closer to actual usage. The 2009 Toyota Prius Hybrid car is advertised as having an overall mileage rating of 48 miles per gallon (mpg) for city driving, and 45 mpg for highway driving. In fact, it turns out that the actual 2009 Prius overall mileage ratings are approximately __Normally Distributed__ with a __mean of 47 mpg__ and a __standard deviation of 2.1 mpg__. QUESTION TO ANSWER: If you were to randomly select a 2009 Prius, what is the probability that it gets at least 50 mpg? (Round your answer to 4 decimal places. Do NOT include units. Do NOT include any letters, spaces, commas, or any characters other than numbers.)\n",
    "\n",
    "$$\\mu = 47 mpg$$\n",
    "$$\\sigma = 2.1 mpg$$\n",
    "$$P(x \\leq 50)$$"
   ]
  },
  {
   "cell_type": "code",
   "execution_count": 1,
   "metadata": {
    "collapsed": true
   },
   "outputs": [],
   "source": [
    "mean = 47\n",
    "std = 2.1\n",
    "right1 = mean + std\n",
    "left1 = mean - std\n",
    "right2 = mean + (std * 2)\n",
    "left2 = mean - (std * 2)"
   ]
  },
  {
   "cell_type": "code",
   "execution_count": 4,
   "metadata": {
    "collapsed": false
   },
   "outputs": [],
   "source": [
    "#zscore function\n",
    "def zscore(x, mean, std):\n",
    "    z = (x - mean) / std\n",
    "    return z"
   ]
  },
  {
   "cell_type": "code",
   "execution_count": 26,
   "metadata": {
    "collapsed": false
   },
   "outputs": [
    {
     "data": {
      "text/plain": [
       "1.4285714285714286"
      ]
     },
     "execution_count": 26,
     "metadata": {},
     "output_type": "execute_result"
    }
   ],
   "source": [
    "z = zscore(50, 47, 2.1)\n",
    "z"
   ]
  },
  {
   "cell_type": "code",
   "execution_count": 28,
   "metadata": {
    "collapsed": false
   },
   "outputs": [
    {
     "data": {
      "text/plain": [
       "0.92343627449016519"
      ]
     },
     "execution_count": 28,
     "metadata": {},
     "output_type": "execute_result"
    }
   ],
   "source": [
    "cdf = norm.cdf(z)\n",
    "cdf"
   ]
  },
  {
   "cell_type": "code",
   "execution_count": 29,
   "metadata": {
    "collapsed": false
   },
   "outputs": [
    {
     "data": {
      "text/plain": [
       "0.076563725509834812"
      ]
     },
     "execution_count": 29,
     "metadata": {},
     "output_type": "execute_result"
    }
   ],
   "source": [
    "cdf = 1 - cdf\n",
    "cdf"
   ]
  },
  {
   "cell_type": "markdown",
   "metadata": {},
   "source": [
    "## Question 2\n",
    "\n",
    "Forty 2009 Prius vehicles were randomly sampled and their mileage ratings were recorded. The data are displayed in the table below.\n",
    "\n",
    "What is the mean of the data set? (Round your answer to one decimal place. Do NOT include units. Do NOT include units. Do NOT include any letters, spaces, commas, or any characters other than numbers.)"
   ]
  },
  {
   "cell_type": "code",
   "execution_count": 12,
   "metadata": {
    "collapsed": false
   },
   "outputs": [
    {
     "data": {
      "text/plain": [
       "count    40.000000\n",
       "mean     46.625000\n",
       "std       1.903943\n",
       "min      43.000000\n",
       "25%      45.000000\n",
       "50%      46.500000\n",
       "75%      48.000000\n",
       "max      51.000000\n",
       "dtype: float64"
      ]
     },
     "execution_count": 12,
     "metadata": {},
     "output_type": "execute_result"
    }
   ],
   "source": [
    "mpg = [43, 43, 44, 44, 44, 45, 45, 45, 45, 45, 45, 46, 46, 46, 46, 46, 46, 46, 46, 46, 47, 47, 47, 47, 47, 47, 47, 47, 48, \\\n",
    "            48, 48, 48, 48, 49, 49, 49, 49, 50, 50, 51]\n",
    "prius = pd.Series(mpg)\n",
    "prius.describe()"
   ]
  },
  {
   "cell_type": "code",
   "execution_count": 19,
   "metadata": {
    "collapsed": false
   },
   "outputs": [
    {
     "data": {
      "image/png": "[encoded data removed]",
      "text/plain": [
       "<matplotlib.figure.Figure at 0x7fdd6b1c3240>"
      ]
     },
     "metadata": {},
     "output_type": "display_data"
    }
   ],
   "source": [
    "prius.plot(kind='hist');"
   ]
  },
  {
   "cell_type": "markdown",
   "metadata": {},
   "source": [
    "## Question 3\n",
    "\n",
    "What is the standard deviation of the data set? (Round your answer to one decimal place. Do NOT include units. Do NOT include any letters, spaces, commas, or any characters other than numbers.)"
   ]
  },
  {
   "cell_type": "code",
   "execution_count": null,
   "metadata": {
    "collapsed": true
   },
   "outputs": [],
   "source": []
  },
  {
   "cell_type": "markdown",
   "metadata": {},
   "source": [
    "## Question 4\n",
    "\n",
    "Compare the sample mean from problem 2 with the population mean. Which statement below best describes your comparison?"
   ]
  },
  {
   "cell_type": "code",
   "execution_count": null,
   "metadata": {
    "collapsed": true
   },
   "outputs": [],
   "source": []
  },
  {
   "cell_type": "markdown",
   "metadata": {},
   "source": [
    "## Question 5\n",
    "\n",
    "Compare the sample standard deviation from problem 2 with the population standard deviation. Which statement below best describes your comparison?"
   ]
  },
  {
   "cell_type": "code",
   "execution_count": null,
   "metadata": {
    "collapsed": true
   },
   "outputs": [],
   "source": []
  },
  {
   "cell_type": "markdown",
   "metadata": {},
   "source": [
    "## Question 6\n",
    "\n",
    "You do NOT need to graph the data, however, if you were to graph it, what general shape would you expect to see?"
   ]
  },
  {
   "cell_type": "code",
   "execution_count": null,
   "metadata": {
    "collapsed": true
   },
   "outputs": [],
   "source": []
  },
  {
   "cell_type": "markdown",
   "metadata": {},
   "source": [
    "## Question 7\n",
    "\n",
    "From the given sample data, actually count up the number of observations that are greater than or equal to 50 mpg. Based on that number, what proportion of vehicles in the sample got at least 50 mpg? (Round your answer to 3 decimal places. Do NOT include units. Do NOT include any letters, spaces, commas, or any characters other than numbers.)"
   ]
  },
  {
   "cell_type": "code",
   "execution_count": 20,
   "metadata": {
    "collapsed": false
   },
   "outputs": [
    {
     "data": {
      "text/plain": [
       "46    9\n",
       "47    8\n",
       "45    6\n",
       "48    5\n",
       "49    4\n",
       "44    3\n",
       "50    2\n",
       "43    2\n",
       "51    1\n",
       "dtype: int64"
      ]
     },
     "execution_count": 20,
     "metadata": {},
     "output_type": "execute_result"
    }
   ],
   "source": [
    "prius.value_counts()"
   ]
  },
  {
   "cell_type": "code",
   "execution_count": 32,
   "metadata": {
    "collapsed": false
   },
   "outputs": [
    {
     "data": {
      "text/plain": [
       "0.075"
      ]
     },
     "execution_count": 32,
     "metadata": {},
     "output_type": "execute_result"
    }
   ],
   "source": [
    "3 / 40"
   ]
  },
  {
   "cell_type": "markdown",
   "metadata": {},
   "source": [
    "## Question 8\n",
    "\n",
    "Does your answer from problem 7 roughly match your answer to problem 1?"
   ]
  },
  {
   "cell_type": "code",
   "execution_count": null,
   "metadata": {
    "collapsed": true
   },
   "outputs": [],
   "source": []
  }
 ],
 "metadata": {
  "kernelspec": {
   "display_name": "Python 3",
   "language": "python",
   "name": "python3"
  },
  "language_info": {
   "codemirror_mode": {
    "name": "ipython",
    "version": 3
   },
   "file_extension": ".py",
   "mimetype": "text/x-python",
   "name": "python",
   "nbconvert_exporter": "python",
   "pygments_lexer": "ipython3",
   "version": "3.4.3"
  }
 },
 "nbformat": 4,
 "nbformat_minor": 0
}
