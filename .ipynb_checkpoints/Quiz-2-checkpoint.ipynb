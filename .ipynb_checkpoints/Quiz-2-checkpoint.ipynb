{
 "cells": [
  {
   "cell_type": "code",
   "execution_count": 1,
   "metadata": {
    "collapsed": false
   },
   "outputs": [],
   "source": [
    "import scipy.misc\n",
    "import numpy as np\n",
    "import pandas as pd\n",
    "import matplotlib.pyplot as plt\n",
    "plt.style.use('ggplot')\n",
    "%matplotlib inline"
   ]
  },
  {
   "cell_type": "markdown",
   "metadata": {},
   "source": [
    "# Quiz 2\n",
    "\n",
    "||no exercise per week|once or twice per week|more than twice per week|totals|\n",
    "|---|---|---|---|---|\n",
    "|male|$$88$$|$$76$$|$$58$$|$$222$$|\n",
    "|female|$$72$$|$$85$$|$$91$$|$$248$$|\n",
    "|totals|$$160$$|$$161$$|$$149$$|$$470$$|\n",
    "\n",
    "### What proportion of the students surveyed exercise at least once per week?"
   ]
  },
  {
   "cell_type": "code",
   "execution_count": 2,
   "metadata": {
    "collapsed": false
   },
   "outputs": [
    {
     "data": {
      "text/plain": [
       "310"
      ]
     },
     "execution_count": 2,
     "metadata": {},
     "output_type": "execute_result"
    }
   ],
   "source": [
    "# take the sum of once/twice and more than twice and devide by total number of people\n",
    "161 + 149"
   ]
  },
  {
   "cell_type": "code",
   "execution_count": 3,
   "metadata": {
    "collapsed": false
   },
   "outputs": [
    {
     "data": {
      "text/plain": [
       "0.6595744680851063"
      ]
     },
     "execution_count": 3,
     "metadata": {},
     "output_type": "execute_result"
    }
   ],
   "source": [
    "# compute fraction\n",
    "310 / 470"
   ]
  },
  {
   "cell_type": "markdown",
   "metadata": {},
   "source": [
    "$$P=\\frac{310}{470}\\;or\\\\\n",
    "P=0.660$$"
   ]
  },
  {
   "cell_type": "markdown",
   "metadata": {},
   "source": [
    "### If one of the 470 is selected at random, what is the probability that the student is a female who exercises at least once per week?  Round to four decimal places.\n",
    "\n",
    "+ Let A = probability that the student is female\n",
    "+ Let B = probability that the student exercises at least once per week\n",
    "\n",
    "_Formula_:\n",
    "$$P(A \\mid B) = \\frac{P(A \\land B)}{P(B)}$$"
   ]
  },
  {
   "cell_type": "code",
   "execution_count": 26,
   "metadata": {
    "collapsed": false
   },
   "outputs": [
    {
     "data": {
      "text/plain": [
       "0.5276595744680851"
      ]
     },
     "execution_count": 26,
     "metadata": {},
     "output_type": "execute_result"
    }
   ],
   "source": [
    "A = 248 / 470\n",
    "A"
   ]
  },
  {
   "cell_type": "code",
   "execution_count": 27,
   "metadata": {
    "collapsed": false
   },
   "outputs": [
    {
     "data": {
      "text/plain": [
       "0.6595744680851063"
      ]
     },
     "execution_count": 27,
     "metadata": {},
     "output_type": "execute_result"
    }
   ],
   "source": [
    "B = (161 + 149) / 470\n",
    "B"
   ]
  },
  {
   "cell_type": "code",
   "execution_count": 28,
   "metadata": {
    "collapsed": false
   },
   "outputs": [
    {
     "data": {
      "text/plain": [
       "0.3480307831598008"
      ]
     },
     "execution_count": 28,
     "metadata": {},
     "output_type": "execute_result"
    }
   ],
   "source": [
    "P = (A * B)\n",
    "P"
   ]
  },
  {
   "cell_type": "markdown",
   "metadata": {},
   "source": [
    "$$P=0.5277$$\n",
    "\n",
    "### If one of the 470 is selected at random, what is the probability that the student is a male given that the student exercises no more than twice per week?  Round to four decimal places.\n",
    "\n",
    "+ Let A = probability that the student is male\n",
    "+ Let B = probability that the student exercises no more than twice per week"
   ]
  },
  {
   "cell_type": "code",
   "execution_count": 29,
   "metadata": {
    "collapsed": false
   },
   "outputs": [
    {
     "data": {
      "text/plain": [
       "0.4723404255319149"
      ]
     },
     "execution_count": 29,
     "metadata": {},
     "output_type": "execute_result"
    }
   ],
   "source": [
    "A = (222 / 470)\n",
    "A"
   ]
  },
  {
   "cell_type": "code",
   "execution_count": 30,
   "metadata": {
    "collapsed": false
   },
   "outputs": [
    {
     "data": {
      "text/plain": [
       "0.32259846084201"
      ]
     },
     "execution_count": 30,
     "metadata": {},
     "output_type": "execute_result"
    }
   ],
   "source": [
    "B = (A * (160 + 161) / 470)\n",
    "B"
   ]
  },
  {
   "cell_type": "code",
   "execution_count": 31,
   "metadata": {
    "collapsed": false
   },
   "outputs": [
    {
     "data": {
      "text/plain": [
       "0.47234042553191485"
      ]
     },
     "execution_count": 31,
     "metadata": {},
     "output_type": "execute_result"
    }
   ],
   "source": [
    "P = (B * A) / B\n",
    "P"
   ]
  },
  {
   "cell_type": "markdown",
   "metadata": {},
   "source": [
    "$$P = 0.4723$$\n",
    "\n",
    "### In 1995, 70% of all children in the U.S. were living with both parents. If 25 children were selected at random in the U.S., what is the probability that at most 10 of them will be living with both of their parents? Round your answer to 4 decimal places.\n",
    "\n",
    "Binomial problem where\n",
    "$$n=25 \\\\\n",
    "p = P(child\\;has\\;parents)=0.70 \\\\\n",
    "x=10$$\n",
    "\n",
    "_Formula_\n",
    "$$p(x) = (_{n}C_{x})p^{x}(1-p)^{n-x}$$"
   ]
  },
  {
   "cell_type": "code",
   "execution_count": 10,
   "metadata": {
    "collapsed": false
   },
   "outputs": [
    {
     "data": {
      "text/plain": [
       "3268760.0"
      ]
     },
     "execution_count": 10,
     "metadata": {},
     "output_type": "execute_result"
    }
   ],
   "source": [
    "nCx = scipy.misc.comb(25, 10)\n",
    "nCx"
   ]
  },
  {
   "cell_type": "code",
   "execution_count": 11,
   "metadata": {
    "collapsed": false
   },
   "outputs": [],
   "source": [
    "def binompdf(nCx, p, n, x):\n",
    "    p = nCx * p**x * (1-p)**(n-x)\n",
    "    return p"
   ]
  },
  {
   "cell_type": "code",
   "execution_count": 12,
   "metadata": {
    "collapsed": false
   },
   "outputs": [
    {
     "data": {
      "text/plain": [
       "0.0013248974242351967"
      ]
     },
     "execution_count": 12,
     "metadata": {},
     "output_type": "execute_result"
    }
   ],
   "source": [
    "binompdf(nCx, .7, 25, 10)"
   ]
  },
  {
   "cell_type": "markdown",
   "metadata": {},
   "source": [
    "### In 1995, 70% of all children in the U.S. were living with both parents. If 25 children were selected at random in the U.S., what is the probability that at least 15 of them will be living with both of their parents? Round your answer to 4 decimal places.\n",
    "\n",
    "$$n=25 \\\\\n",
    "p = P(living\\;with\\;both\\;parents) = .70 \\\\\n",
    "x = 15$$"
   ]
  },
  {
   "cell_type": "code",
   "execution_count": 13,
   "metadata": {
    "collapsed": false
   },
   "outputs": [
    {
     "data": {
      "text/plain": [
       "0.091636012383213686"
      ]
     },
     "execution_count": 13,
     "metadata": {},
     "output_type": "execute_result"
    }
   ],
   "source": [
    "nCx = scipy.misc.comb(25, 15)\n",
    "binompdf(nCx, .7, 25, 15)"
   ]
  },
  {
   "cell_type": "markdown",
   "metadata": {},
   "source": [
    "### Suppose that you work for a newly restructured automotive company with nearly 100,000 employees. You are in charge of purchasing engines from an overseas supplier. Company policy is that you purchase several hundred engines each month to be placed into cars on the assembly line.  Your overseas supplier of engines guarantees that 10% of the new engines shipped to you will have minor oil leaks that will require a slight modification before assembly. To check out the most recent monthly shipment of the engines, you randomly select and test 200 of these engines. What is the average number of leaky engines you would expect to get?\n",
    "\n",
    "$$X = number\\;of\\;defective\\;engines \\\\\n",
    "n = 200 \\\\\n",
    "p = .10$$"
   ]
  },
  {
   "cell_type": "code",
   "execution_count": 14,
   "metadata": {
    "collapsed": false
   },
   "outputs": [
    {
     "data": {
      "text/plain": [
       "20.0"
      ]
     },
     "execution_count": 14,
     "metadata": {},
     "output_type": "execute_result"
    }
   ],
   "source": [
    "200 * .1"
   ]
  },
  {
   "cell_type": "code",
   "execution_count": null,
   "metadata": {
    "collapsed": true
   },
   "outputs": [],
   "source": []
  }
 ],
 "metadata": {
  "kernelspec": {
   "display_name": "Python 3",
   "language": "python",
   "name": "python3"
  },
  "language_info": {
   "codemirror_mode": {
    "name": "ipython",
    "version": 3
   },
   "file_extension": ".py",
   "mimetype": "text/x-python",
   "name": "python",
   "nbconvert_exporter": "python",
   "pygments_lexer": "ipython3",
   "version": "3.4.3"
  }
 },
 "nbformat": 4,
 "nbformat_minor": 0
}
