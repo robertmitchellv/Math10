{
 "cells": [
  {
   "cell_type": "code",
   "execution_count": 1,
   "metadata": {
    "collapsed": true
   },
   "outputs": [],
   "source": [
    "import numpy as np\n",
    "import pandas as pd\n",
    "import matplotlib.pyplot as plt\n",
    "plt.style.use('ggplot')\n",
    "%matplotlib inline"
   ]
  },
  {
   "cell_type": "markdown",
   "metadata": {},
   "source": [
    "# Lecture 1\n",
    "\n",
    "## Statistics is the science of data!\n",
    "\n",
    "There are two brances of statistics\n",
    "+ Descriptive Statistics\n",
    "+ Inferential Statistics\n",
    "\n",
    "__Descriptive Statistics__ is simply the process of describing and summarizing information in some manner that makes it quick to read and interpret the data.\n",
    "\n",
    "_Example of utilizing descriptive statistics:_\n",
    "+ Graphs you might see in a newspaper or magazine\n",
    "+ Batting averages of baseball players\n",
    "+ The Gross National Product\n",
    "+ Grade Poin Average\n",
    "\n",
    "However, the branch of statistics that is truly magical and powerful is __Inferential Statistics__!\n",
    "\n",
    "### Key terms to know:\n",
    "\n",
    "+ __Population__: The Entire group of interest\n",
    "+ __Sample__: A subset of the population.\n",
    "\n",
    "Gathering __population__ level data can be very costly, which is why __sampling__ is so important.  Additionally, __sampling__ becomes our go-to method for gathering data that would be impossible to gather of an entire __population__.\n",
    "\n",
    "THe ultimate goal of statistics is to take the sample data and use it to make conclusions about the entire population.  If proper sampling techniques are used then we have a very good chance of making accurate predeictions about a very large set of data (the __population__) from a much smaller set (the __sample__).\n",
    "\n",
    "+ __Variable__: denotes the description of whatever data is being collected--this informs what type of analysis we will need to perform on the data.  We classify out data as being either:\n",
    "\n",
    "+ __Quantitative__: Numerical data that has meaning, e.g., the miles per gallon the hybrid Prius gets, your height, your GPA.\n",
    "    * __Discrete__: you can count the possible responses, e.g., number of glases of water you drank today, the number of cigarettes you smoke daily, or the number of accidents at an intersection.\n",
    "    * __Continuous__: you can give this variable an interval, e.g., age falls on a continuum; as do amounts, such as, the amount of water you drank today, the amount of barbon dioxide your car emits, or the volume of water in a backyard pool. \n",
    "+ __Qualitative__: Non-numerical data, e.g., the political party you belong to, or whether or not you have a bumper sticker, or your gender.\n",
    "\n",
    "### A summary of the statistical process:\n",
    "\n",
    "1. A __question__ needs answering\n",
    "2. Collect __data__ (using a procedure--such as random sampling--to increase the chance of a representative sample.\n",
    "3. __Classify__ the data as either qualitative or quantitative (then as discrete or continuous if quantitative).\n",
    "4. __Summarize__ the data using a picture or summary number (like batting average).\n",
    "5. __Analyze__ the data (this is what the most interesting part of this course is about).\n",
    "6. __Interpret__.  Based on the sample data collected, make a conclusion about the population."
   ]
  },
  {
   "cell_type": "markdown",
   "metadata": {
    "collapsed": true
   },
   "source": [
    "![img](Img/ch1.png 'Chapter 1 Summary')"
   ]
  },
  {
   "cell_type": "code",
   "execution_count": null,
   "metadata": {
    "collapsed": true
   },
   "outputs": [],
   "source": []
  }
 ],
 "metadata": {
  "kernelspec": {
   "display_name": "Python 3",
   "language": "python",
   "name": "python3"
  },
  "language_info": {
   "codemirror_mode": {
    "name": "ipython",
    "version": 3
   },
   "file_extension": ".py",
   "mimetype": "text/x-python",
   "name": "python",
   "nbconvert_exporter": "python",
   "pygments_lexer": "ipython3",
   "version": "3.4.3"
  }
 },
 "nbformat": 4,
 "nbformat_minor": 0
}
