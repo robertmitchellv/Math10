{
 "cells": [
  {
   "cell_type": "code",
   "execution_count": 1,
   "metadata": {
    "collapsed": true
   },
   "outputs": [],
   "source": [
    "from scipy import stats\n",
    "import math\n",
    "import numpy as np\n",
    "import pandas as pd\n",
    "import matplotlib.pyplot as plt\n",
    "plt.style.use('ggplot')\n",
    "%matplotlib inline"
   ]
  },
  {
   "cell_type": "code",
   "execution_count": 5,
   "metadata": {
    "collapsed": true
   },
   "outputs": [],
   "source": [
    "n = 50\n",
    "f = [96.7, 96.8, 97.2, 97.2, 97.6, 97.7, 97.8, 97.8, 97.9, 97.9, 98.0, 98.0, 98.0, 98.0, 98.1, \n",
    "       98.2, 98.2, 98.2, 98.2, 98.3, 98.3, 98.3, 98.4, 98.4, 98.4, 98.4, 98.5, 98.6, 98.6, 98.6, \n",
    "       98.7, 98.7, 98.7, 98.7, 98.7, 98.8, 98.8, 98.8, 98.8, 98.8, 98.9, 99.0, 99.0, 99.1, 99.1, \n",
    "       99.2, 99.3, 99.4, 99.6, 99.9]\n",
    "m = [96.7, 96.9, 97.0, 97.1, 97.1, 97.2, 97.3, 97.4, 97.4, 97.4, 97.5, 97.5, 97.6, 97.6, 97.7, \n",
    "          97.8, 97.8, 97.8, 97.9, 98.0, 98.0, 98.0, 98.0, 98.1, 98.1, 98.2, 98.2, 98.2, 98.3, 98.3, 98.4, \n",
    "          98.4, 98.4, 98.5, 98.5, 98.6, 98.6, 98.6, 98.6, 98.7, 98.7, 98.8, 98.8, 98.9, 99.0, 99.0, 99.0, \n",
    "          99.2, 99.3, 99.4]\n",
    "female = pd.Series(f)\n",
    "male = pd.Series(m)"
   ]
  },
  {
   "cell_type": "code",
   "execution_count": 6,
   "metadata": {
    "collapsed": false
   },
   "outputs": [
    {
     "data": {
      "text/plain": [
       "count    50.000000\n",
       "mean     98.406000\n",
       "std       0.655716\n",
       "min      96.700000\n",
       "25%      98.000000\n",
       "50%      98.400000\n",
       "75%      98.800000\n",
       "max      99.900000\n",
       "dtype: float64"
      ]
     },
     "execution_count": 6,
     "metadata": {},
     "output_type": "execute_result"
    }
   ],
   "source": [
    "female.describe()"
   ]
  },
  {
   "cell_type": "code",
   "execution_count": 4,
   "metadata": {
    "collapsed": false
   },
   "outputs": [
    {
     "data": {
      "text/plain": [
       "count    50.000000\n",
       "mean     98.110000\n",
       "std       0.671049\n",
       "min      96.700000\n",
       "25%      97.600000\n",
       "50%      98.150000\n",
       "75%      98.600000\n",
       "max      99.400000\n",
       "dtype: float64"
      ]
     },
     "execution_count": 4,
     "metadata": {},
     "output_type": "execute_result"
    }
   ],
   "source": [
    "male.describe()"
   ]
  },
  {
   "cell_type": "code",
   "execution_count": 28,
   "metadata": {
    "collapsed": false
   },
   "outputs": [],
   "source": [
    "f_m = female.mean()\n",
    "f_std = female.std()\n",
    "f_n = 50\n",
    "m_m = male.mean()\n",
    "m_std = male.std()\n",
    "m_n = 50"
   ]
  },
  {
   "cell_type": "code",
   "execution_count": null,
   "metadata": {
    "collapsed": true
   },
   "outputs": [],
   "source": []
  }
 ],
 "metadata": {
  "kernelspec": {
   "display_name": "Python 3",
   "language": "python",
   "name": "python3"
  },
  "language_info": {
   "codemirror_mode": {
    "name": "ipython",
    "version": 3
   },
   "file_extension": ".py",
   "mimetype": "text/x-python",
   "name": "python",
   "nbconvert_exporter": "python",
   "pygments_lexer": "ipython3",
   "version": "3.4.3"
  }
 },
 "nbformat": 4,
 "nbformat_minor": 0
}
