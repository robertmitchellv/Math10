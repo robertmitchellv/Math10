{
 "cells": [
  {
   "cell_type": "code",
   "execution_count": 1,
   "metadata": {
    "collapsed": false
   },
   "outputs": [],
   "source": [
    "import numpy as np\n",
    "import pandas as pd\n",
    "import matplotlib.pyplot as plt\n",
    "plt.style.use('ggplot')\n",
    "%matplotlib inline"
   ]
  },
  {
   "cell_type": "markdown",
   "metadata": {},
   "source": [
    "## Probability--The Science of Uncertainty\n",
    "\n",
    "Some common questions often asked and answered in probability and statistics:\n",
    "\n",
    "+ What is the probability that when rolling a pair of dice the sum will be a \"seven\"?\n",
    "+ What is the probability that when rolling a single die the result will be a \"two\" knowing that the result is an even number?\n",
    "+ What is the probability that you will win a state lottery if you buy a ticket?\n",
    "\n",
    "Suppose that you use a sample of 20 medium to large consumer electronics coporations to estimate the average gross sales in US dollars of all medium to large consumer electronics corporations.  In this situation, you would be using the sample mean to make an inference about the true population mean, and we would want to have some idea of how accurate the sample mean is as a true reflection of the population mean.  Probability is required for a measure of reliability of such inferences.\n",
    "\n",
    "Such inferences are not usually made without some measure of reliabilty of the inference.  Measures of reliabilty provide us with a sense of how confident we are that the inference is a good one.  In case that the confidence of the inference is low, then usually the inference would not be used or at least not trusted to be very accurate.  Either way a measure of reliability is important to know.  We use probability to obtain measures of reliability.\n",
    "\n",
    "### Key terms:\n",
    "\n",
    "+ __Experiement__: Some course of action taken without being sure of what the eventual outcome will be.\n",
    "+ __Outcome__: What happens after the experiment\n",
    "+ __Event__: One of the things that could happen when an experiement is performed.\n",
    "+ __Probability__: A measure of how likely it is that a particular event will occur.\n",
    "\n",
    "Suppose that we take a pair of dice and take one of the dice, called a die.  THen we perform the __experiment__ of rolling the die.  Next we record the __outcome__ of the experiment.  This will be either a 1, 2, 3, 4, 5, or a 6.  Now define the __event__ of interested to be that we get a 2 when we roll the die.\n",
    "\n",
    "We explain explain the basic and intuitive idea of \"probability\" by continuing with the example of the experiment of rolling a die with an interest in finding the __probability__ that the __event__ of obtaining an __outcome__ of 2 occurs.  When a tie is actually rolled the __outcome__ can be any one of the first six numbers 1, 2, 3, 4, 5, or 5.  So the total number of possible __outcomes__ is 6.\n",
    "\n",
    "By using the roll function below, simulate a die rolling and call the function as many times as needed until you have a value of 2 returned."
   ]
  },
  {
   "cell_type": "code",
   "execution_count": 2,
   "metadata": {
    "collapsed": true
   },
   "outputs": [],
   "source": [
    "def roll():\n",
    "    die = np.random.randint(1, 7)\n",
    "    return die"
   ]
  },
  {
   "cell_type": "code",
   "execution_count": 3,
   "metadata": {
    "collapsed": false
   },
   "outputs": [
    {
     "data": {
      "text/plain": [
       "6"
      ]
     },
     "execution_count": 3,
     "metadata": {},
     "output_type": "execute_result"
    }
   ],
   "source": [
    "roll()"
   ]
  },
  {
   "cell_type": "code",
   "execution_count": 4,
   "metadata": {
    "collapsed": false
   },
   "outputs": [
    {
     "data": {
      "text/plain": [
       "4"
      ]
     },
     "execution_count": 4,
     "metadata": {},
     "output_type": "execute_result"
    }
   ],
   "source": [
    "roll()"
   ]
  },
  {
   "cell_type": "code",
   "execution_count": 5,
   "metadata": {
    "collapsed": false
   },
   "outputs": [
    {
     "data": {
      "text/plain": [
       "1"
      ]
     },
     "execution_count": 5,
     "metadata": {},
     "output_type": "execute_result"
    }
   ],
   "source": [
    "roll()"
   ]
  },
  {
   "cell_type": "markdown",
   "metadata": {},
   "source": [
    "Now, we could have obtained a 2 on the first roll, or 5, or 4, et cetera.  One could loose patience and give up--the goal of probability is to figure out the probability of a particular event without actually performing an experiment.\n",
    "\n",
    "Since there are six possible outcomes when rolling a single die, then intuitively the probability of obtaining a 2 on a single toss is defined to be one chance in six.  We justify this based on there being one way of obtaining a 2 out of six total outcomes, or:\n",
    "\n",
    "$$\\frac{1}{6}$$\n",
    "\n",
    "Another way to look at this is that if one rolls the die many times and counts the number of times the die comes up 2, then the ration of the number of times one obtains a 2 to the number of times one rolls the die should be close to one-sixth.  Here's our basic probability formula:\n",
    "\n",
    "$$probability\\;\\;of\\;\\;event = \\frac{number\\;\\;of\\;\\;outcomes\\;\\;in\\;\\;the\\;\\;event}{total\\;\\;number\\;\\;of\\;\\;possible\\;\\;outcomes}$$\n",
    "\n",
    "In general, a __probability__ is a number between __0__ and __1__ which describes the likellihood that an outcome or an event occurs when an experiment is performed.  Probabilities are assigned to outcomes based on the frequency of occurence if the experiement were to be repeated many times.  For example, if a balanced coin were tossed twice, you would expect that each of the outcomes HH, HT, TH, and TT would occur with a frequency of about 1 in 4.  That is, if you tossed the coin twice and repeated that for 100 times, you would expect that approximately 25 times you would obtain 2 heads.  Although the number could be different, the final count should be somewhere near 25 occurences of two heads.  Otherwise, the coin you are tossing is said to be not balanced or not fair.\n",
    "\n",
    "#### Two properties that are always true for probabilities:\n",
    "1. The probability of each outcome is always a number between 0 and 1\n",
    "2. The sum of the probabilities of all the outcomes must equal 1.\n",
    "\n",
    "### Probability Rule:\n",
    "\n",
    "__The probability of an event is the sum of the probabilities of each of the outcomes that are contained in the event__\n",
    "\n",
    "For example, the probability of flipping a coin an getting heads twice:\n",
    "\n",
    "$$P(HH) = \\;\\;?$$\n",
    "\n",
    "First, we have to think of all the possible combinations of unique outcomes to find our desiered event:\n",
    "\n",
    "$$Outcomes = \\{HH, HT, TH, TT\\}$$\n",
    "\n",
    "So, _HH_ occurs only 1 time out of four possible times, so:\n",
    "\n",
    "$$P(HH) = \\frac{1}{4}\\;\\; or \\;\\; .25$$\n",
    "\n",
    "This satisfies our rule because\n",
    "\n",
    "$$.25 + .25 + .25 + .25 = 1\\;\\; (outcomes\\;\\; must\\;\\; equal\\;\\; 1)$$\n",
    "$$.25 + blank + blank + blank  = .25\\;\\; (sum\\;\\; of\\;\\; events\\;\\; equals\\;\\; probability\\;\\; of\\;\\; event)$$\n",
    "\n",
    "__Compliment of an event__: is all of the outcomes that are _not_ in the event\n",
    "\n",
    "For example, we return to the experiment of tossing a coin twice which has the outcomes of:\n",
    "\n",
    "$$\\{HH, HT, TH, TT\\}$$\n",
    "\n",
    "If we decide the event, call it event A, will be an outcome that contains only 1 head, then we will have only two outcomes in our event:\n",
    "\n",
    "$$A = \\{HT, TH\\}$$\n",
    "\n",
    "Therefore, the __compliment__ of the event, which is often denoted with an exponent 'c', contains the remaining outcomes:\n",
    "\n",
    "$$A^{c} = \\{HH, TT\\}$$\n",
    "\n",
    "So, the event and the compliment if summed equal 1, which means:\n",
    "\n",
    "$$P(A) + P(A^{c}) = 1$$\n",
    "\n",
    "If we use subtraction, we've obtained another probability rule!\n",
    "\n",
    "__Rule__:\n",
    "\n",
    "$$P(A) = 1 - P(A^{c})$$\n",
    "\n",
    "For an example of using this rule, suppose that you take a true/false quiz that consists of three questions.  If passing the quiz is getting at least one of the questions correct, what is the probability that you pass the quiz by guessing?\n",
    "\n",
    "__First__ we note that each question can be either a Y or N corresponding to the question being Y for correct and N for being incorrect.  And since there are three questions to answer, the set of all possible outcomes are:\n",
    "\n",
    "$$\\{YYY, YYN, YNY, YNN, NYY, NYN, NNY, NNN\\}$$\n",
    "\n",
    "Each of thsee outcomes has the same probability of 1/8 of occuring.  These probabilities are all equal because we're guessing.\n",
    "\n",
    "__Next__ let\n",
    "\n",
    "$$A = the\\;event\\;that\\;you\\;pass\\;the\\;quiz \\\\\n",
    "A =\\{YYY, YYN, YNY, YNN, NYY, NYN, NNY, NNN\\}$$\n",
    "\n",
    "__Then__ using the rule:\n",
    "$$P(A) = 1 - P(A^{c}) \\\\\n",
    "P(A) = 1 - P(NNN) \\to because\\;A^{c} = \\{NNN\\}\\;because\\;all\\;three\\;were\\;incorrect \\\\\n",
    "P(A) = 1 - \\frac{1}{8} \\\\\n",
    "P(A) = \\frac{7}{8}$$\n",
    "\n",
    "Of course we could always solve the problem more directly, however, there is more computation involved:\n",
    "\n",
    "$$P(A) = P(YYY) + P(YYN) + P(YNY) + P(YNN) + P(NYY) + P(NYN) + P(NNY) + P(NNN) \\\\\n",
    "P(A) = \\frac{1}{8} + \\frac{1}{8} + \\frac{1}{8} + \\frac{1}{8} + \\frac{1}{8} + \\frac{1}{8} + \\frac{1}{8} + \\frac{1}{8} = \\frac{7}{8}$$"
   ]
  },
  {
   "cell_type": "markdown",
   "metadata": {
    "collapsed": true
   },
   "source": [
    "### Conditional Probability \n",
    "\n",
    "__Conditional Probabilities__ occur when some additional information is known about the set of outcomes for an experiment, e.g., suppose you select a person at random and wish to find the probability that the person can thrown a baseball in excess of 95 mph.  If you happen to know some additonal information about the set of outcomes that tells you the person is a professional baseball player, then the probability the person can really throw a baseball in excess of 95 mph would definitely be larger than if the person had never played baseball.\n",
    "\n",
    "__For example__ we'll use dice again:\n",
    "\n",
    "Let A = the event that we roll a 2\n",
    "Let B = the event that we roll an even number, e.g., 2, 4, or 6\n",
    "\n",
    "$$=P(rolling\\;a\\;2) \\\\\n",
    "=P(A) \\\\\n",
    "=\\frac{number\\;of\\;outcomes\\;in\\;the\\;event}{total\\;number\\;of\\;possible\\;outcomes} \\\\\n",
    "=\\frac{1}{6}$$\n",
    "\n",
    "Now, let's set up a conditional probability--the probability of rolling a 2 given the outcome is an even number:\n",
    "\n",
    "$$=P(rolling\\;a\\;2\\;given\\;the\\;outcome\\;is\\;an\\;even\\;number) \\\\\n",
    "=P(A\\;givenB) \\\\\n",
    "=P(A \\mid B) \\\\\n",
    "=\\frac{number\\;of\\;outcomes\\;in\\;the\\;event}{total\\;number\\;of\\;possible\\;outcomes} \\\\\n",
    "=\\frac{1}{3}$$\n",
    "\n",
    "The conditional probaiblity is larger because the total set of outcomes is a smaller number, in this case only 3 outcomes as compared to 6 outcomes.\n",
    "\n",
    "__Independent Events__\n",
    "\n",
    "A and B are independent events provided\n",
    "$$P(A \\mid B) = P(A)$$\n",
    "\n",
    "This definition is a formal way of saying that if B is known to have occured, then the probability of A occuring is the same as if B had not occured.  So, the knowledge that one event has occured (B in this case) has no effect on probability of the other event (A in this case) occuring.  The two probabilities are exactly the same.\n",
    "\n",
    "Consider the following experiment:\n",
    "\n",
    "Toss a fair coin twice and record the results H for heads and T for tails.  The set of possible outcomes is:\n",
    "\n",
    "| HH | HT |\n",
    "|------|-----|\n",
    "| __TT__  | __TH__ |\n",
    "\n",
    "HT means heads for the first flip, tails for the second"
   ]
  },
  {
   "cell_type": "markdown",
   "metadata": {},
   "source": [
    "Let A = the event that the first toss is a H\n",
    "Let B = the event that the second toss is a H\n",
    "\n",
    "We'll show how the two are are independent:\n",
    "\n",
    "$$P(A) = \\frac{number\\;of\\;outcomes\\;in\\;the\\;event}{total\\;number\\;of\\;possible\\;outcomes} = \\frac{2}{4} = \\frac{1}{2} \\\\\n",
    "P(A \\mid B) = \\frac{number\\;of\\;outcomes\\;in\\;the\\;event}{total\\;number\\;of\\;possible\\;outcomes} = \\frac{1}{2}$$\n",
    "\n",
    "Since both A and B are the same, we have shown that A and B are independent events.\n",
    "\n",
    "Another way to deal with __independent events__\n",
    "\n",
    "A and B are independent events provided:\n",
    "\n",
    "$$P(A \\land B) = P(A) \\times P(B)$$\n",
    "\n",
    "A and B means that both events A and B occur, which means in this example HH\n",
    "\n",
    "$$A \\land B = \\{HH\\} \\\\\n",
    "P(A \\land B) = \\frac{1}{4} \\\\\n",
    "P(A) \\times P(B) = \\frac{1}{2} \\times \\frac{1}{2} = \\frac{1}{4}$$\n",
    "\n",
    "So, the two events are independent!"
   ]
  },
  {
   "cell_type": "code",
   "execution_count": 6,
   "metadata": {
    "collapsed": true
   },
   "outputs": [],
   "source": [
    "def coinToss(times):\n",
    "    outcomes = []\n",
    "    for i in range(times):\n",
    "        flip = np.random.randint(2)\n",
    "        if flip == 0:\n",
    "            outcomes.append(\"H\")\n",
    "        elif flip == 1:\n",
    "            outcomes.append(\"T\")\n",
    "    return outcomes "
   ]
  },
  {
   "cell_type": "code",
   "execution_count": 7,
   "metadata": {
    "collapsed": false
   },
   "outputs": [
    {
     "data": {
      "text/plain": [
       "['T', 'T']"
      ]
     },
     "execution_count": 7,
     "metadata": {},
     "output_type": "execute_result"
    }
   ],
   "source": [
    "coinToss(2)"
   ]
  }
 ],
 "metadata": {
  "kernelspec": {
   "display_name": "Python 3",
   "language": "python",
   "name": "python3"
  },
  "language_info": {
   "codemirror_mode": {
    "name": "ipython",
    "version": 3
   },
   "file_extension": ".py",
   "mimetype": "text/x-python",
   "name": "python",
   "nbconvert_exporter": "python",
   "pygments_lexer": "ipython3",
   "version": "3.4.3"
  }
 },
 "nbformat": 4,
 "nbformat_minor": 0
}
