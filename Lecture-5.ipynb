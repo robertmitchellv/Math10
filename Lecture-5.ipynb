{
 "cells": [
  {
   "cell_type": "code",
   "execution_count": 1,
   "metadata": {
    "collapsed": true
   },
   "outputs": [],
   "source": [
    "import numpy as np\n",
    "import pandas as pd\n",
    "import matplotlib.pyplot as plt\n",
    "plt.style.use('ggplot')\n",
    "%matplotlib inline"
   ]
  },
  {
   "cell_type": "markdown",
   "metadata": {},
   "source": [
    "## The Normal Distribution\n",
    "\n",
    "### Probabilities\n",
    "\n",
    "Recall that when dealing with mound-shaped and symetric distributions that we can use the __Empirical Rule__:\n",
    "![Empirical Rule](https://github.com/robertmitchellv/Math10/blob/master/EmpRule.png?raw=true)\n",
    "Mu and sigma are being used as the notation for the mean and standard deviation because this data set is the entire population.  Whenever a problem refers to the _distribution_ of a data set you may assume the reference pertains to the entire population and not just a sample.\n",
    "\n",
    "Let's use an example: In conducting a study of internet usage on college campuses nationwide, a researcher has determined that the daily average number of spam emails received by students follows a distribution that is mound-shaped and symmetric.  Furthermore, it is known that the __population mean__ average number of spam emails received by college students is __32__ messages and the __standard deviation__ is __8__.\n",
    "\n",
    "The empirical rule "
   ]
  },
  {
   "cell_type": "code",
   "execution_count": 2,
   "metadata": {
    "collapsed": false
   },
   "outputs": [
    {
     "data": {
      "text/plain": [
       "12"
      ]
     },
     "execution_count": 2,
     "metadata": {},
     "output_type": "execute_result"
    }
   ],
   "source": [
    "32 - 20"
   ]
  },
  {
   "cell_type": "code",
   "execution_count": null,
   "metadata": {
    "collapsed": true
   },
   "outputs": [],
   "source": []
  }
 ],
 "metadata": {
  "kernelspec": {
   "display_name": "Python 3",
   "language": "python",
   "name": "python3"
  },
  "language_info": {
   "codemirror_mode": {
    "name": "ipython",
    "version": 3
   },
   "file_extension": ".py",
   "mimetype": "text/x-python",
   "name": "python",
   "nbconvert_exporter": "python",
   "pygments_lexer": "ipython3",
   "version": "3.4.3"
  }
 },
 "nbformat": 4,
 "nbformat_minor": 0
}
